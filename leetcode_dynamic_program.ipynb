{
 "cells": [
  {
   "attachments": {},
   "cell_type": "markdown",
   "metadata": {},
   "source": [
    "## Classification of algorithms\n",
    "\n",
    "There are numbers of ways to classify algorithms. \n",
    "  - Classification by Implementation\n",
    "  - Classification by Complexity\n",
    "  - Classification by Design\n",
    "\n",
    "### Classification by Implementation\n",
    "#### 1. Recursion\n",
    "- The cursion algorithms are the ones that make calls to themselves until a certain condition is satisfied (base case)\n",
    "- This is usually constructed by a `while loop`\n",
    "\n",
    "#### 2. Logical\n",
    "- This is expressing it as a controlled logical deduction\n",
    "- The formular: `algorithm = logic + control`, in which:\n",
    "  - `logic` component determines the meaning of algorithm or the steps that need to be taken in order to solve a problem. It is expressed in terms of formulas or logical statement. \n",
    "  - `control` component only affects it own efficience. This determines the order in which the logic steps are executed. This is expressed in terms of programming languag construcs such as loops, conditional statement or functional calls.\n",
    "\n",
    "Let's me give an example:\n",
    "```\n",
    "def find_max_value(list):\n",
    "  max_value = list[0]\n",
    "  for i in range(1, len(list)):\n",
    "    if list[i] > max_value:\n",
    "      max_value = list[i]\n",
    "  return max_value\n",
    "```\n",
    "The example is find the max_value of the list. \n",
    "`logic`: \n",
    "  - initialize `max_value`\n",
    "  - Iterate through the rest of the list\n",
    "  - Compare an element to `max_value`\n",
    "  - If element > max_value --> assign max_value == element\n",
    "  - return max_value\n",
    "`control`:\n",
    "  - `for loop` control order in which the elements of the list compared to max_value\n",
    "  - if statement to controls wheather or not logic step of updating max_value is executed"
   ]
  },
  {
   "attachments": {},
   "cell_type": "markdown",
   "metadata": {},
   "source": [
    "### Classification by Design\n",
    "\n",
    " - Divide and conquer\n",
    " - Dynamic programming\n",
    " - Greedy Algorithm\n",
    "\n",
    "#### Dynamic Programming\n"
   ]
  },
  {
   "attachments": {},
   "cell_type": "markdown",
   "metadata": {},
   "source": [
    "### Dynamic Programming vs Recursion for Fibonacci Problem"
   ]
  },
  {
   "cell_type": "code",
   "execution_count": 2,
   "metadata": {},
   "outputs": [],
   "source": [
    "# recursion\n",
    "def fib(n):\n",
    "    #base case\n",
    "    if n <= 2:\n",
    "        return 1\n",
    "    else:\n",
    "        return fib(n-1) + fib(n-2)\n",
    "\n",
    "n = 5\n",
    "fib(500)"
   ]
  },
  {
   "cell_type": "code",
   "execution_count": null,
   "metadata": {},
   "outputs": [],
   "source": [
    "# dynamic program fib\n",
    "def dyna_fib(n, lookup)"
   ]
  },
  {
   "attachments": {},
   "cell_type": "markdown",
   "metadata": {},
   "source": [
    "### Prob 1: Climbing Stairs|"
   ]
  },
  {
   "cell_type": "code",
   "execution_count": 1,
   "metadata": {},
   "outputs": [],
   "source": [
    "# Input: n = 2\n",
    "# Output: 2\n",
    "# Explanation: There are two ways to climb to the top.\n",
    "# 1. 1 step + 1 step\n",
    "# 2. 2 steps\n",
    "\n",
    "# base case\n",
    "n = 0 --> ways = 0\n",
    "n = 1 --> ways = 1\n",
    "n = 2 --> ways = 2\n",
    "n = 3 --> ways = 3 => ways(1) + ways(2)\n",
    "n = 4 --> ways = 5 => ways (2) + ways(3)\n",
    "\n",
    "if n < 2:\n",
    "    ways(n)  = n #base case\n",
    "else:\n",
    "    ways(n) = ways(n-1) + ways(n-2)\n"
   ]
  },
  {
   "cell_type": "code",
   "execution_count": 6,
   "metadata": {},
   "outputs": [],
   "source": [
    "# recursion solution\n",
    "class Solution(object):\n",
    "    def climbStairs(self, n):\n",
    "        \"\"\"\n",
    "        :type n: int\n",
    "        :rtype: int\n",
    "        \"\"\"\n",
    "        if n <=2:\n",
    "            return n\n",
    "        else:\n",
    "            return self.climbStairs(n-1) + self.climbStairs(n-2)"
   ]
  },
  {
   "cell_type": "code",
   "execution_count": 9,
   "metadata": {},
   "outputs": [],
   "source": [
    "# recursion solution with dp\n",
    "class Solution(object):\n",
    "    def climbStairs(self, n, dp):\n",
    "        \"\"\"\n",
    "        :type n: int\n",
    "        :rtype: int\n",
    "        \"\"\"\n",
    "        # a*1 + b*2 = n\n",
    "        # b = (n-a)/2\n",
    "        # a = (n-2b)\n",
    "        \n",
    "        if n <=2:\n",
    "            dp[n] = n\n",
    "        elif dp[n] is None:\n",
    "            dp[n] = self.climbStairs(n-1, dp) + self.climbStairs(n-2, dp)\n",
    "        return dp[n]"
   ]
  },
  {
   "cell_type": "code",
   "execution_count": 30,
   "metadata": {},
   "outputs": [],
   "source": [
    "# recursion solution with tabular\n",
    "class Solution(object):\n",
    "    def climbStairs(self, n):\n",
    "        \"\"\"\n",
    "        :type n: int\n",
    "        :rtype: int\n",
    "        \"\"\"\n",
    "        results = [0, 1, 2]\n",
    "\n",
    "        for i in range(3, n+1):\n",
    "            results.append(results[i-1] + results[i-2])\n",
    "        return results[n]"
   ]
  },
  {
   "cell_type": "code",
   "execution_count": 36,
   "metadata": {},
   "outputs": [
    {
     "data": {
      "text/plain": [
       "13"
      ]
     },
     "execution_count": 36,
     "metadata": {},
     "output_type": "execute_result"
    }
   ],
   "source": [
    "n = 6\n",
    "dp = [None] * 10000\n",
    "sol = Solution()\n",
    "sol.climbStairs(n)"
   ]
  },
  {
   "attachments": {},
   "cell_type": "markdown",
   "metadata": {},
   "source": [
    "### Greedy Algorithm\n",
    "\n",
    "A greedy algorithm makes the best local choice at each step in hop of finding the best global solution.\n",
    "\n",
    "  >- Greedy algorithm always chooses the option that seems best at the moment without considering the long-term consequences of its chose.\n",
    "\n",
    "When to use greedy algo:\n",
    "\n",
    "  >- Solve optimization problems where the goal is to find the best solution to a problem given a set of constraints.\n",
    "\n",
    "Example:\n",
    "  - Find the shortest path between two points in graph\n",
    "  - Find the largest subset of a set of numbers that add up to given target value\n",
    "\n",
    "Some greedy algo:\n",
    "\n",
    "  - Dijkstra's algorithm: find the shortest path between two points in a graph. The algo works by repeatedly adding the vertex with the shortest distance to the current vertex to the shortest path\n",
    "  - Prim's algorithm: find the minimum spanning tree of a graph. The algo works by repeatedly adding the edge with the smallest weight to the minimum spanning tree.\n",
    "  - Huffman coding: can be used to encode a set of symbols into a binary code. The algo works by repeatedly merging the two symbols with the smallest weights into a single symbol.\n",
    "\n"
   ]
  },
  {
   "attachments": {},
   "cell_type": "markdown",
   "metadata": {},
   "source": [
    "### Prob 2: Best Time to Buy and Sell Stock"
   ]
  },
  {
   "cell_type": "code",
   "execution_count": null,
   "metadata": {},
   "outputs": [],
   "source": [
    "Input: \n",
    "Output: 5\n",
    "Explanation: Buy on day 2 (price = 1) and sell on day 5 (price = 6), profit = 6-1 = 5.\n",
    "Note that buying on day 2 and selling on day 1 is not allowed because you must buy before you sell."
   ]
  },
  {
   "cell_type": "code",
   "execution_count": 2,
   "metadata": {},
   "outputs": [],
   "source": [
    "class Solution(object):\n",
    "    def maxProfit(self, prices):\n",
    "        \"\"\"\n",
    "        :type prices: List[int]\n",
    "        :rtype: int\n",
    "        \"\"\"\n",
    "        max_profit = 0\n",
    "        buy = prices[0]\n",
    "        #greedy algo\n",
    "        for price in prices:\n",
    "            if price < buy:\n",
    "                buy = price\n",
    "            elif (price - buy) > max_profit:\n",
    "                max_profit = price - buy\n",
    "        return max_profit    "
   ]
  },
  {
   "cell_type": "code",
   "execution_count": 4,
   "metadata": {},
   "outputs": [
    {
     "data": {
      "text/plain": [
       "0"
      ]
     },
     "execution_count": 4,
     "metadata": {},
     "output_type": "execute_result"
    }
   ],
   "source": [
    "prices = [7,6,4,3,1]\n",
    "sol = Solution()\n",
    "sol.maxProfit(prices)"
   ]
  },
  {
   "attachments": {},
   "cell_type": "markdown",
   "metadata": {},
   "source": [
    "### Prob 3: Maximum Subarray\n",
    "\n",
    "Given an integer array nums, find the subarray with the largest sum, and return its sum."
   ]
  },
  {
   "cell_type": "code",
   "execution_count": null,
   "metadata": {},
   "outputs": [],
   "source": [
    "Input: nums = [-2,1,-3,4,-1,2,1,-5,4]\n",
    "Output: 6\n",
    "Explanation: The subarray [4,-1,2,1] has the largest sum 6."
   ]
  },
  {
   "cell_type": "code",
   "execution_count": 43,
   "metadata": {},
   "outputs": [],
   "source": [
    "class Solution(object):\n",
    "    def maxSubArray(self, nums):\n",
    "        \"\"\"\n",
    "        :type nums: List[int]\n",
    "        :rtype: int\n",
    "        \"\"\"\n",
    "        max_sum = 0\n",
    "        if len(nums) == 1:\n",
    "            max_sum = sum(nums)\n",
    "        else:\n",
    "            for i in range(len(nums)):\n",
    "                for j in range(len(nums)):\n",
    "                    sub_sum = sum(nums[i:j+1])\n",
    "                    # print(f\"i:{i} | j: {j} | sub_sum: {sub_sum}\")\n",
    "                    if sub_sum > max_sum:\n",
    "                        max_sum = sub_sum\n",
    "        return max_sum\n",
    "# This solution is ok, but it takes a lot of time. Time Complexity is O(n2)\n",
    "# I need to come up with another solution which is greedy algo (find local and global)"
   ]
  },
  {
   "cell_type": "code",
   "execution_count": 58,
   "metadata": {},
   "outputs": [],
   "source": [
    "class Solution(object):\n",
    "    def maxSubArray(self, nums):\n",
    "        max_sum = nums[0]\n",
    "        current_sum = 0\n",
    "\n",
    "        # greedy and iterate through out the nums\n",
    "        for i in range(len(nums)):\n",
    "            current_sum += nums[i]\n",
    "            current_sum = max(current_sum, nums[i])\n",
    "            max_sum = max(current_sum, max_sum)\n",
    "        return max_sum"
   ]
  },
  {
   "cell_type": "code",
   "execution_count": 59,
   "metadata": {},
   "outputs": [
    {
     "data": {
      "text/plain": [
       "1"
      ]
     },
     "execution_count": 59,
     "metadata": {},
     "output_type": "execute_result"
    }
   ],
   "source": [
    "nums = [1]\n",
    "sol = Solution()\n",
    "sol.maxSubArray(nums)"
   ]
  },
  {
   "attachments": {},
   "cell_type": "markdown",
   "metadata": {},
   "source": [
    "### Prob 4: House Robber"
   ]
  },
  {
   "cell_type": "code",
   "execution_count": null,
   "metadata": {},
   "outputs": [],
   "source": [
    "Input: nums = [1,2,3,1]\n",
    "Output: 4\n",
    "Explanation: Rob house 1 (money = 1) and then rob house 3 (money = 3).\n",
    "Total amount you can rob = 1 + 3 = 4."
   ]
  },
  {
   "cell_type": "code",
   "execution_count": null,
   "metadata": {},
   "outputs": [],
   "source": [
    "[1 2 3 1] \n",
    "max --> greedy\n",
    "max_amount = 0"
   ]
  },
  {
   "cell_type": "code",
   "execution_count": 6,
   "metadata": {},
   "outputs": [],
   "source": [
    "class Solution(object):\n",
    "    def rob(self, nums):\n",
    "        \"\"\"\n",
    "        :type nums: List[int]\n",
    "        :rtype: int\n",
    "        \"\"\"\n",
    "        nums_odd = [nums[i] for i in range(0, len(nums),2)]\n",
    "        nums_even = [nums[i] for i in range(1, len(nums), 2)]\n",
    "\n",
    "        return max(sum(nums_odd), sum(nums_even))"
   ]
  },
  {
   "cell_type": "code",
   "execution_count": 13,
   "metadata": {},
   "outputs": [],
   "source": [
    "class Solution(object):\n",
    "    def rob(self, nums):\n",
    "        \"\"\"\n",
    "        :type nums: List[int]\n",
    "        :rtype: int\n",
    "        \"\"\"\n",
    "        n = len(nums)\n",
    "        dp = [0] * (n + 1)\n",
    "\n",
    "        #base case\n",
    "        dp[0] = 0\n",
    "        dp[1] = nums[0]\n",
    "\n",
    "        for i in range(2, n+1):\n",
    "            dp[i] = max(dp[i-1], dp[i-2] + nums[i-1])\n",
    "        \n",
    "        return dp[n]"
   ]
  },
  {
   "cell_type": "code",
   "execution_count": 14,
   "metadata": {},
   "outputs": [
    {
     "data": {
      "text/plain": [
       "4"
      ]
     },
     "execution_count": 14,
     "metadata": {},
     "output_type": "execute_result"
    }
   ],
   "source": [
    "nums = [2,1,1,2]\n",
    "sol = Solution()\n",
    "sol.rob(nums)"
   ]
  }
 ],
 "metadata": {
  "kernelspec": {
   "display_name": "Python 3",
   "language": "python",
   "name": "python3"
  },
  "language_info": {
   "codemirror_mode": {
    "name": "ipython",
    "version": 3
   },
   "file_extension": ".py",
   "mimetype": "text/x-python",
   "name": "python",
   "nbconvert_exporter": "python",
   "pygments_lexer": "ipython3",
   "version": "3.8.10"
  },
  "orig_nbformat": 4
 },
 "nbformat": 4,
 "nbformat_minor": 2
}
