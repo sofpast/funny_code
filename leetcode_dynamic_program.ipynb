{
 "cells": [
  {
   "attachments": {},
   "cell_type": "markdown",
   "metadata": {},
   "source": [
    "## Classification of algorithms\n",
    "\n",
    "There are numbers of ways to classify algorithms. \n",
    "  - Classification by Implementation\n",
    "  - Classification by Complexity\n",
    "  - Classification by Design\n",
    "\n",
    "### Classification by Implementation\n",
    "#### 1. Recursion\n",
    "- The cursion algorithms are the ones that make calls to themselves until a certain condition is satisfied (base case)\n",
    "- This is usually constructed by a `while loop`\n",
    "\n",
    "#### 2. Logical\n",
    "- This is expressing it as a controlled logical deduction\n",
    "- The formular: `algorithm = logic + control`, in which:\n",
    "  - `logic` component determines the meaning of algorithm or the steps that need to be taken in order to solve a problem. It is expressed in terms of formulas or logical statement. \n",
    "  - `control` component only affects it own efficience. This determines the order in which the logic steps are executed. This is expressed in terms of programming languag construcs such as loops, conditional statement or functional calls.\n",
    "\n",
    "Let's me give an example:\n",
    "```\n",
    "def find_max_value(list):\n",
    "  max_value = list[0]\n",
    "  for i in range(1, len(list)):\n",
    "    if list[i] > max_value:\n",
    "      max_value = list[i]\n",
    "  return max_value\n",
    "```\n",
    "The example is find the max_value of the list. \n",
    "`logic`: \n",
    "  - initialize `max_value`\n",
    "  - Iterate through the rest of the list\n",
    "  - Compare an element to `max_value`\n",
    "  - If element > max_value --> assign max_value == element\n",
    "  - return max_value\n",
    "`control`:\n",
    "  - `for loop` control order in which the elements of the list compared to max_value\n",
    "  - if statement to controls wheather or not logic step of updating max_value is executed"
   ]
  },
  {
   "attachments": {},
   "cell_type": "markdown",
   "metadata": {},
   "source": [
    "### Classification by Design\n",
    "\n",
    " - Divide and conquer\n",
    " - Dynamic programming\n",
    " - Greedy Algorithm\n",
    "\n",
    "#### Dynamic Programming\n"
   ]
  },
  {
   "attachments": {},
   "cell_type": "markdown",
   "metadata": {},
   "source": [
    "### Dynamic Programming vs Recursion for Fibonacci Problem"
   ]
  },
  {
   "cell_type": "code",
   "execution_count": null,
   "metadata": {},
   "outputs": [],
   "source": []
  }
 ],
 "metadata": {
  "language_info": {
   "name": "python"
  },
  "orig_nbformat": 4
 },
 "nbformat": 4,
 "nbformat_minor": 2
}
