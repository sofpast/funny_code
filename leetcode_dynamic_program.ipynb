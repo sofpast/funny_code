{
 "cells": [
  {
   "attachments": {},
   "cell_type": "markdown",
   "metadata": {},
   "source": [
    "## Classification of algorithms\n",
    "\n",
    "There are numbers of ways to classify algorithms. \n",
    "  - Classification by Implementation\n",
    "  - Classification by Complexity\n",
    "  - Classification by Design\n",
    "\n",
    "### Classification by Implementation\n",
    "#### 1. Recursion\n",
    "- The cursion algorithms are the ones that make calls to themselves until a certain condition is satisfied (base case)\n",
    "- This is usually constructed by a `while loop`\n",
    "\n",
    "#### 2. Logical\n",
    "- This is expressing it as a controlled logical deduction\n",
    "- The formular: `algorithm = logic + control`, in which:\n",
    "  - `logic` component determines the meaning of algorithm or the steps that need to be taken in order to solve a problem. It is expressed in terms of formulas or logical statement. \n",
    "  - `control` component only affects it own efficience. This determines the order in which the logic steps are executed. This is expressed in terms of programming languag construcs such as loops, conditional statement or functional calls.\n",
    "\n",
    "Let's me give an example:\n",
    "```\n",
    "def find_max_value(list):\n",
    "  max_value = list[0]\n",
    "  for i in range(1, len(list)):\n",
    "    if list[i] > max_value:\n",
    "      max_value = list[i]\n",
    "  return max_value\n",
    "```\n",
    "The example is find the max_value of the list. \n",
    "`logic`: \n",
    "  - initialize `max_value`\n",
    "  - Iterate through the rest of the list\n",
    "  - Compare an element to `max_value`\n",
    "  - If element > max_value --> assign max_value == element\n",
    "  - return max_value\n",
    "`control`:\n",
    "  - `for loop` control order in which the elements of the list compared to max_value\n",
    "  - if statement to controls wheather or not logic step of updating max_value is executed"
   ]
  },
  {
   "attachments": {},
   "cell_type": "markdown",
   "metadata": {},
   "source": [
    "### Classification by Design\n",
    "\n",
    " - Divide and conquer\n",
    " - Dynamic programming\n",
    " - Greedy Algorithm\n",
    "\n",
    "#### Dynamic Programming\n"
   ]
  },
  {
   "attachments": {},
   "cell_type": "markdown",
   "metadata": {},
   "source": [
    "### Dynamic Programming vs Recursion for Fibonacci Problem"
   ]
  },
  {
   "cell_type": "code",
   "execution_count": 2,
   "metadata": {},
   "outputs": [],
   "source": [
    "# recursion\n",
    "def fib(n):\n",
    "    #base case\n",
    "    if n <= 2:\n",
    "        return 1\n",
    "    else:\n",
    "        return fib(n-1) + fib(n-2)\n",
    "\n",
    "n = 5\n",
    "fib(500)"
   ]
  },
  {
   "cell_type": "code",
   "execution_count": null,
   "metadata": {},
   "outputs": [],
   "source": [
    "# dynamic program fib\n",
    "def dyna_fib(n, lookup)"
   ]
  },
  {
   "attachments": {},
   "cell_type": "markdown",
   "metadata": {},
   "source": [
    "### Prob 1: Climbing Stairs|"
   ]
  },
  {
   "cell_type": "code",
   "execution_count": 1,
   "metadata": {},
   "outputs": [],
   "source": [
    "# Input: n = 2\n",
    "# Output: 2\n",
    "# Explanation: There are two ways to climb to the top.\n",
    "# 1. 1 step + 1 step\n",
    "# 2. 2 steps\n",
    "\n",
    "# base case\n",
    "n = 0 --> ways = 0\n",
    "n = 1 --> ways = 1\n",
    "n = 2 --> ways = 2\n",
    "n = 3 --> ways = 3 => ways(1) + ways(2)\n",
    "n = 4 --> ways = 5 => ways (2) + ways(3)\n",
    "\n",
    "if n < 2:\n",
    "    ways(n)  = n #base case\n",
    "else:\n",
    "    ways(n) = ways(n-1) + ways(n-2)\n"
   ]
  },
  {
   "cell_type": "code",
   "execution_count": 6,
   "metadata": {},
   "outputs": [],
   "source": [
    "# recursion solution\n",
    "class Solution(object):\n",
    "    def climbStairs(self, n):\n",
    "        \"\"\"\n",
    "        :type n: int\n",
    "        :rtype: int\n",
    "        \"\"\"\n",
    "        if n <=2:\n",
    "            return n\n",
    "        else:\n",
    "            return self.climbStairs(n-1) + self.climbStairs(n-2)"
   ]
  },
  {
   "cell_type": "code",
   "execution_count": 9,
   "metadata": {},
   "outputs": [],
   "source": [
    "# recursion solution with dp\n",
    "class Solution(object):\n",
    "    def climbStairs(self, n, dp):\n",
    "        \"\"\"\n",
    "        :type n: int\n",
    "        :rtype: int\n",
    "        \"\"\"\n",
    "        # a*1 + b*2 = n\n",
    "        # b = (n-a)/2\n",
    "        # a = (n-2b)\n",
    "        \n",
    "        if n <=2:\n",
    "            dp[n] = n\n",
    "        elif dp[n] is None:\n",
    "            dp[n] = self.climbStairs(n-1, dp) + self.climbStairs(n-2, dp)\n",
    "        return dp[n]"
   ]
  },
  {
   "cell_type": "code",
   "execution_count": 30,
   "metadata": {},
   "outputs": [],
   "source": [
    "# recursion solution with tabular\n",
    "class Solution(object):\n",
    "    def climbStairs(self, n):\n",
    "        \"\"\"\n",
    "        :type n: int\n",
    "        :rtype: int\n",
    "        \"\"\"\n",
    "        results = [0, 1, 2]\n",
    "\n",
    "        for i in range(3, n+1):\n",
    "            results.append(results[i-1] + results[i-2])\n",
    "        return results[n]"
   ]
  },
  {
   "cell_type": "code",
   "execution_count": 36,
   "metadata": {},
   "outputs": [
    {
     "data": {
      "text/plain": [
       "13"
      ]
     },
     "execution_count": 36,
     "metadata": {},
     "output_type": "execute_result"
    }
   ],
   "source": [
    "n = 6\n",
    "dp = [None] * 10000\n",
    "sol = Solution()\n",
    "sol.climbStairs(n)"
   ]
  },
  {
   "cell_type": "code",
   "execution_count": null,
   "metadata": {},
   "outputs": [],
   "source": []
  }
 ],
 "metadata": {
  "kernelspec": {
   "display_name": "Python 3",
   "language": "python",
   "name": "python3"
  },
  "language_info": {
   "codemirror_mode": {
    "name": "ipython",
    "version": 3
   },
   "file_extension": ".py",
   "mimetype": "text/x-python",
   "name": "python",
   "nbconvert_exporter": "python",
   "pygments_lexer": "ipython3",
   "version": "3.8.10"
  },
  "orig_nbformat": 4
 },
 "nbformat": 4,
 "nbformat_minor": 2
}
