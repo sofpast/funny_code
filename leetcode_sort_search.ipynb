{
 "cells": [
  {
   "attachments": {},
   "cell_type": "markdown",
   "metadata": {},
   "source": [
    "## Sorting\n",
    "\n",
    "There are 5 popular sorting algorithms, which are:\n",
    "- (1) Bubble sort: works with `unordered list` and implemented by swapping two adjacent elements.\n",
    "- (2) Insertion sort: improve from (1) a little bit because the list is already order partially.\n",
    "- (3) Selection sort\n",
    "- (4) Quick sort: the most efficient/ powerful sort algorithm and preserves the index of the list that it sorts.\n",
    "- (5) Heap sort"
   ]
  },
  {
   "attachments": {},
   "cell_type": "markdown",
   "metadata": {},
   "source": [
    "### Prob 1: Merge Sorted Array"
   ]
  },
  {
   "cell_type": "code",
   "execution_count": 1,
   "metadata": {},
   "outputs": [],
   "source": [
    "# Input: nums1 = [1,2,3,0,0,0], m = 3, nums2 = [2,5,6], n = 3\n",
    "# Output: [1,2,2,3,5,6]\n",
    "# Explanation: The arrays we are merging are [1,2,3] and [2,5,6].\n",
    "# The result of the merge is [1,2,2,3,5,6] with the underlined elements coming from nums1."
   ]
  },
  {
   "cell_type": "code",
   "execution_count": 3,
   "metadata": {},
   "outputs": [],
   "source": [
    "nums1 = [1,2,3,0,0,0] \n",
    "m = 3 \n",
    "nums2 = [2,5,6]\n",
    "n = 3"
   ]
  },
  {
   "attachments": {},
   "cell_type": "markdown",
   "metadata": {},
   "source": [
    "We have a hint that the two arrays are sorted partially so it would be solved by using `insertion sort` and `quick sort`. Let's give it a try."
   ]
  },
  {
   "cell_type": "code",
   "execution_count": 7,
   "metadata": {},
   "outputs": [],
   "source": [
    "# quick sort\n",
    "class Solution(object):\n",
    "    def merge(self, nums1, m, nums2, n):\n",
    "        \"\"\"\n",
    "        :type nums1: List[int]\n",
    "        :type m: int\n",
    "        :type nums2: List[int]\n",
    "        :type n: int\n",
    "        :rtype: None Do not return anything, modify nums1 in-place instead.\n",
    "        \"\"\"\n",
    "        search_index = 0\n",
    "        for i in range(len(nums2)):\n",
    "            print(nums2[i])\n",
    "            for j in range(len(nums1)):\n",
    "                if nums2[i] > nums1[j-1]:\n",
    "\n"
   ]
  },
  {
   "cell_type": "code",
   "execution_count": 8,
   "metadata": {},
   "outputs": [
    {
     "name": "stdout",
     "output_type": "stream",
     "text": [
      "2\n",
      "5\n",
      "6\n"
     ]
    }
   ],
   "source": [
    "sol = Solution()\n",
    "sol.merge(nums1, m, nums2, n)"
   ]
  },
  {
   "cell_type": "code",
   "execution_count": null,
   "metadata": {},
   "outputs": [],
   "source": []
  }
 ],
 "metadata": {
  "kernelspec": {
   "display_name": "Python 3",
   "language": "python",
   "name": "python3"
  },
  "language_info": {
   "codemirror_mode": {
    "name": "ipython",
    "version": 3
   },
   "file_extension": ".py",
   "mimetype": "text/x-python",
   "name": "python",
   "nbconvert_exporter": "python",
   "pygments_lexer": "ipython3",
   "version": "3.8.10"
  },
  "orig_nbformat": 4
 },
 "nbformat": 4,
 "nbformat_minor": 2
}
