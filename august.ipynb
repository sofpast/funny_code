{
 "cells": [
  {
   "cell_type": "code",
   "execution_count": 2,
   "metadata": {},
   "outputs": [],
   "source": [
    "rod_names = ['A', 'B', 'C'] # source, helper, dest\n",
    "n = 4"
   ]
  },
  {
   "cell_type": "code",
   "execution_count": 10,
   "metadata": {},
   "outputs": [],
   "source": [
    "def hanoi_tower(n, source, helper, dest):\n",
    "    if n == 1:\n",
    "        print(f\"move 1 from {source} to {dest}\")\n",
    "        return\n",
    "    else:\n",
    "        hanoi_tower(n-1, source, dest, helper)\n",
    "        print(f\"move {n} from {source} to {dest}\")\n",
    "        hanoi_tower(n-1, helper, source, dest)\n"
   ]
  },
  {
   "cell_type": "code",
   "execution_count": 11,
   "metadata": {},
   "outputs": [
    {
     "name": "stdout",
     "output_type": "stream",
     "text": [
      "move 1 from A to C\n",
      "move 2 from A to B\n",
      "move 1 from C to B\n",
      "move 3 from A to C\n",
      "move 1 from B to A\n",
      "move 2 from B to C\n",
      "move 1 from A to C\n"
     ]
    }
   ],
   "source": [
    "hanoi_tower(3, \"A\", \"B\", \"C\")"
   ]
  },
  {
   "cell_type": "code",
   "execution_count": null,
   "metadata": {},
   "outputs": [],
   "source": []
  }
 ],
 "metadata": {
  "kernelspec": {
   "display_name": "Python 3",
   "language": "python",
   "name": "python3"
  },
  "language_info": {
   "codemirror_mode": {
    "name": "ipython",
    "version": 3
   },
   "file_extension": ".py",
   "mimetype": "text/x-python",
   "name": "python",
   "nbconvert_exporter": "python",
   "pygments_lexer": "ipython3",
   "version": "3.8.10"
  },
  "orig_nbformat": 4
 },
 "nbformat": 4,
 "nbformat_minor": 2
}
