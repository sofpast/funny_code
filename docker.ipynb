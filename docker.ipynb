{
 "cells": [
  {
   "attachments": {},
   "cell_type": "markdown",
   "metadata": {},
   "source": [
    "### Some tips when build docker images\n",
    "- To build docker image, need to use admin role"
   ]
  },
  {
   "cell_type": "code",
   "execution_count": 4,
   "metadata": {},
   "outputs": [
    {
     "name": "stdout",
     "output_type": "stream",
     "text": [
      "su: user nhung-admin does not exist\n",
      "[sudo] password for nhungnt: \n"
     ]
    }
   ],
   "source": [
    "!su -l nhung-admin\n",
    "!sudo su -\n",
    "# pass of nhung-admin"
   ]
  },
  {
   "attachments": {},
   "cell_type": "markdown",
   "metadata": {},
   "source": [
    "- In cooperation company, they use proxy, so to pass through it, there are two ways:\n",
    "  - One: config Docker client [Config Docker Client](https://docs.docker.com/network/proxy/)\n",
    "  - Second: add proxy to Dockerfile by following lines"
   ]
  },
  {
   "cell_type": "code",
   "execution_count": null,
   "metadata": {},
   "outputs": [],
   "source": [
    "## Option 1: config Docker client\n",
    "\n",
    "# docker create configuration file\n",
    "touch config.json\n",
    "vim config.json (:q)\n",
    "\n",
    "# docker inspect (container_id)\n",
    "# docker volume inspect volume_name\n",
    "\n",
    "# touch ~/.docker/config.json\n",
    "\n",
    "{\n",
    " \"proxies\":\n",
    " {\n",
    "   \"default\":\n",
    "   {\n",
    "     \"httpProxy\": \"http://192.168.220.101:3128\",\n",
    "     \"httpsProxy\": \"http://192.168.220.101:3128\",\n",
    "     \"noProxy\": \"*.test.example.com,.example2.com,127.0.0.0/8\"\n",
    "   }\n",
    " }\n",
    "}"
   ]
  },
  {
   "cell_type": "code",
   "execution_count": null,
   "metadata": {},
   "outputs": [],
   "source": [
    "## Add proxy to Dockerfile\n",
    "## This adding is permanently\n",
    "ENV http_proxy=http://192.168.220.101:3128\n",
    "ENV https_proxy=http://192.168.220.101:3128\n"
   ]
  },
  {
   "cell_type": "code",
   "execution_count": null,
   "metadata": {},
   "outputs": [],
   "source": [
    "## Add proxy when build image\n",
    "docker build --build-arg http_proxy=http://10.239.4.80:913 --build-arg https_proxy=http://10.239.4.80:913 -t image_ubuntu_11.2.1 ."
   ]
  },
  {
   "attachments": {},
   "cell_type": "markdown",
   "metadata": {},
   "source": [
    "### Some common docker commands and errors"
   ]
  },
  {
   "cell_type": "code",
   "execution_count": null,
   "metadata": {},
   "outputs": [],
   "source": [
    "# Access to a docker container\n",
    "!docker exec -it <mycontainer> /bin/bash"
   ]
  },
  {
   "cell_type": "code",
   "execution_count": null,
   "metadata": {},
   "outputs": [],
   "source": [
    "# Docker run and accept all gpus (avoid gpu deprecated)\n",
    "!docker run --gpus all --rm --shm-size=1g --ulimit memlock=-1 --ulimit stack=67108864 nvcr.io/nvidia/cuda:12.1.0-devel-centos7 nvidia-smi\n",
    "systemctl restart docker"
   ]
  },
  {
   "cell_type": "code",
   "execution_count": null,
   "metadata": {},
   "outputs": [],
   "source": [
    "# Docker build\n",
    "# switch to admin account\n",
    "!sudo su -\n",
    "# build a image \"pythonimage\" and place it here \".\"\n",
    "!docker build -t pythonimage .\n",
    "# Run docker image (test1 is the docker container name)\n",
    "!docker run --name test1 pythonimage\n"
   ]
  },
  {
   "cell_type": "code",
   "execution_count": null,
   "metadata": {},
   "outputs": [],
   "source": [
    "# Check if nvidia-container-toolkit is updated\n",
    "RUN apt-get update  # run in the host\n",
    "apt-get install -y nvidia-container-toolkit\n",
    "RUN systemctl restart docker\n",
    "\n",
    "Go to here:\n",
    "https://docs.nvidia.com/datacenter/cloud-native/container-toolkit/install-guide.html#setting-up-nvidia-container-toolkit"
   ]
  },
  {
   "cell_type": "code",
   "execution_count": null,
   "metadata": {},
   "outputs": [],
   "source": [
    "# To delete all containers including its volumes use,\n",
    "!docker rm -vf $(docker ps -aq)\n",
    "# To delete all the images,\n",
    "!docker rmi -f $(docker images -aq)\n",
    "# To stop all running dockers\n",
    "!docker stop $(docker ps -aq)"
   ]
  },
  {
   "cell_type": "code",
   "execution_count": null,
   "metadata": {},
   "outputs": [],
   "source": [
    "# To inspect volume\n",
    "!docker inspect (container_id)\n",
    "!docker volume inspect volume_name"
   ]
  },
  {
   "attachments": {},
   "cell_type": "markdown",
   "metadata": {},
   "source": [
    "### Docker save and load\n",
    "- If you use `docker import` and need to use docker `export instead`"
   ]
  },
  {
   "cell_type": "code",
   "execution_count": null,
   "metadata": {},
   "outputs": [],
   "source": [
    "# Save the image\n",
    "$ docker save myimage > myimage.tar.gz\n",
    "\n",
    "# Load the image\n",
    "$ docker load < myimage.tar.gz"
   ]
  }
 ],
 "metadata": {
  "kernelspec": {
   "display_name": "actineo2",
   "language": "python",
   "name": "python3"
  },
  "language_info": {
   "codemirror_mode": {
    "name": "ipython",
    "version": 3
   },
   "file_extension": ".py",
   "mimetype": "text/x-python",
   "name": "python",
   "nbconvert_exporter": "python",
   "pygments_lexer": "ipython3",
   "version": "3.8.11"
  },
  "orig_nbformat": 4
 },
 "nbformat": 4,
 "nbformat_minor": 2
}
