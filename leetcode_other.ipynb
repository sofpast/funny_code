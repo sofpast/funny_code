{
 "cells": [
  {
   "attachments": {},
   "cell_type": "markdown",
   "metadata": {},
   "source": [
    "### Prob 1: Number of 1 Bits"
   ]
  },
  {
   "cell_type": "code",
   "execution_count": null,
   "metadata": {},
   "outputs": [],
   "source": [
    "# Input: n = 00000000000000000000000000001011\n",
    "# Output: 3\n",
    "# Explanation: The input binary string 00000000000000000000000000001011 has a total of three '1' bits."
   ]
  },
  {
   "cell_type": "code",
   "execution_count": 22,
   "metadata": {},
   "outputs": [],
   "source": [
    "class Solution(object):\n",
    "    def hammingWeight(self, n):\n",
    "        \"\"\"\n",
    "        :type n: int\n",
    "        :rtype: int\n",
    "        \"\"\"\n",
    "        count = 0\n",
    "        n_bin = bin(n)\n",
    "        for char in str(n_bin):\n",
    "            if char == \"1\":\n",
    "                count += 1\n",
    "                \n",
    "        return count"
   ]
  },
  {
   "cell_type": "code",
   "execution_count": 23,
   "metadata": {},
   "outputs": [
    {
     "data": {
      "text/plain": [
       "3"
      ]
     },
     "execution_count": 23,
     "metadata": {},
     "output_type": "execute_result"
    }
   ],
   "source": [
    "n = 0o00000000000000000000000000001011\n",
    "Solution().hammingWeight(n)"
   ]
  },
  {
   "cell_type": "code",
   "execution_count": 24,
   "metadata": {},
   "outputs": [
    {
     "data": {
      "text/plain": [
       "'0b1000001001'"
      ]
     },
     "execution_count": 24,
     "metadata": {},
     "output_type": "execute_result"
    }
   ],
   "source": [
    "bin(n)"
   ]
  },
  {
   "attachments": {},
   "cell_type": "markdown",
   "metadata": {},
   "source": [
    "### Prob 2: Hamming Distance\n",
    "\n",
    "The Hamming distance between two integers is the number of positions at which the corresponding bits are different.\n",
    "\n",
    "Given two integers x and y, return the Hamming distance between them."
   ]
  },
  {
   "cell_type": "code",
   "execution_count": 25,
   "metadata": {},
   "outputs": [],
   "source": [
    "# Input: x = 1, y = 4\n",
    "# Output: 2\n",
    "# Explanation:\n",
    "# 1   (0 0 0 1)\n",
    "# 4   (0 1 0 0)\n",
    "#        ↑   ↑\n",
    "# The above arrows point to positions where the corresponding bits are different."
   ]
  },
  {
   "cell_type": "code",
   "execution_count": 56,
   "metadata": {},
   "outputs": [],
   "source": [
    "class Solution(object):\n",
    "    def hammingDistance(self, x, y):\n",
    "        \"\"\"\n",
    "        :type x: int\n",
    "        :type y: int\n",
    "        :rtype: int\n",
    "        \"\"\"\n",
    "        x_bin = bin(x)[2:]\n",
    "        y_bin = bin(y)[2:]\n",
    "        print(f\"{x_bin} | {y_bin}\" )\n",
    "        if len(x_bin) < len(y_bin):\n",
    "            buffer = len(y_bin) - len(x_bin)\n",
    "            print(buffer)\n",
    "            x_bin = (\"0\" * buffer) + x_bin\n",
    "        else:\n",
    "            buffer = len(x_bin) - len(y_bin)\n",
    "            print(buffer)\n",
    "            y_bin = (\"0\" * buffer) + y_bin\n",
    "        print (f\"{x_bin} | {y_bin}\")\n",
    "\n",
    "        distance = 0\n",
    "        if len(x_bin) == len(y_bin):\n",
    "            for i in range(len(x_bin)):\n",
    "                if x_bin[i] != y_bin[i]:\n",
    "                    distance += 1\n",
    "        \n",
    "        return distance\n",
    "\n",
    "\n",
    "        "
   ]
  },
  {
   "cell_type": "code",
   "execution_count": 58,
   "metadata": {},
   "outputs": [
    {
     "name": "stdout",
     "output_type": "stream",
     "text": [
      "11 | 1\n",
      "1\n",
      "11 | 01\n"
     ]
    },
    {
     "data": {
      "text/plain": [
       "1"
      ]
     },
     "execution_count": 58,
     "metadata": {},
     "output_type": "execute_result"
    }
   ],
   "source": [
    "x = 3 \n",
    "y = 1\n",
    "Solution().hammingDistance(x, y)\n",
    "# assert Solution().hammingDistance(x, y) == 2"
   ]
  },
  {
   "attachments": {},
   "cell_type": "markdown",
   "metadata": {},
   "source": [
    "### Prob 3: Reverse Bits"
   ]
  },
  {
   "cell_type": "code",
   "execution_count": 59,
   "metadata": {},
   "outputs": [],
   "source": [
    "# Input: n = 00000010100101000001111010011100\n",
    "# Output:    964176192 (00111001011110000010100101000000)\n",
    "# Explanation: The input binary string 00000010100101000001111010011100 represents the unsigned integer 43261596, so return 964176192 which its binary representation is 00111001011110000010100101000000."
   ]
  },
  {
   "cell_type": "code",
   "execution_count": 79,
   "metadata": {},
   "outputs": [],
   "source": [
    "class Solution(object):\n",
    "    def reverseBits(self, n):\n",
    "        return str(int(n))[::-1]"
   ]
  },
  {
   "cell_type": "code",
   "execution_count": 2,
   "metadata": {},
   "outputs": [],
   "source": [
    "class Solution(object):\n",
    "    def reverseBits(self, n):\n",
    "        return int(bin(n)[2:].zfill(32)[::-1], 2)"
   ]
  },
  {
   "cell_type": "code",
   "execution_count": 4,
   "metadata": {},
   "outputs": [],
   "source": [
    "n = 0b00000010100101000001111010011100\n",
    "# Solution().reverseBits(n)"
   ]
  },
  {
   "cell_type": "code",
   "execution_count": 10,
   "metadata": {},
   "outputs": [
    {
     "data": {
      "text/plain": [
       "964176192"
      ]
     },
     "execution_count": 10,
     "metadata": {},
     "output_type": "execute_result"
    }
   ],
   "source": [
    "int(bin(n)[2:].zfill(32)[::-1], 2)"
   ]
  },
  {
   "cell_type": "code",
   "execution_count": 60,
   "metadata": {},
   "outputs": [
    {
     "data": {
      "text/plain": [
       "'54321'"
      ]
     },
     "execution_count": 60,
     "metadata": {},
     "output_type": "execute_result"
    }
   ],
   "source": [
    "a = \"12345\"\n",
    "a[::-1]"
   ]
  },
  {
   "attachments": {},
   "cell_type": "markdown",
   "metadata": {},
   "source": [
    "### Prob 4: Pascal's Triangle"
   ]
  },
  {
   "cell_type": "code",
   "execution_count": null,
   "metadata": {},
   "outputs": [],
   "source": [
    "Input: numRows = 5\n",
    "Output: [[1],[1,1],[1,2,1],[1,3,3,1],[1,4,6,4,1]]"
   ]
  },
  {
   "cell_type": "code",
   "execution_count": 19,
   "metadata": {},
   "outputs": [],
   "source": [
    "class Solution(object):\n",
    "    def generate(self, numRows):\n",
    "        \"\"\"\n",
    "        :type numRows: int\n",
    "        :rtype: List[List[int]]\n",
    "        \"\"\"\n",
    "        result = []\n",
    "        for num in range(numRows):\n",
    "            print(11**num)\n",
    "            result.append([int(char) for char in str(11**num)])\n",
    "\n",
    "        return result\n",
    "# The solution is failed with numRows = 6\n",
    "so I decided to back to basic solution"
   ]
  },
  {
   "cell_type": "code",
   "execution_count": 21,
   "metadata": {},
   "outputs": [],
   "source": [
    "class Solution(object):\n",
    "    def generate(self, numRows):\n",
    "        triangle = [[1]]\n",
    "\n",
    "        for i in range(1, numRows):\n",
    "            row = [1]\n",
    "            for j in range(1, i):\n",
    "                row.append(triangle[i-1][j-1] + triangle[i-1][j])\n",
    "            row.append(1)\n",
    "            triangle.append(row)\n",
    "        return triangle"
   ]
  },
  {
   "cell_type": "code",
   "execution_count": 24,
   "metadata": {},
   "outputs": [
    {
     "data": {
      "text/plain": [
       "[[1], [1, 1], [1, 2, 1], [1, 3, 3, 1], [1, 4, 6, 4, 1], [1, 5, 10, 10, 5, 1]]"
      ]
     },
     "execution_count": 24,
     "metadata": {},
     "output_type": "execute_result"
    }
   ],
   "source": [
    "numRows = 6\n",
    "Solution().generate(numRows) \n"
   ]
  },
  {
   "cell_type": "code",
   "execution_count": null,
   "metadata": {},
   "outputs": [],
   "source": [
    "assert Solution().generate(numRows) == [[1],[1,1],[1,2,1],[1,3,3,1],[1,4,6,4,1],[1,5,10,10,5,1]]"
   ]
  },
  {
   "attachments": {},
   "cell_type": "markdown",
   "metadata": {},
   "source": [
    "### Prob 5: Valid Parentheses"
   ]
  },
  {
   "cell_type": "code",
   "execution_count": 110,
   "metadata": {},
   "outputs": [],
   "source": [
    "class Solution(object):\n",
    "    def isValid(self, s):\n",
    "        \"\"\"\n",
    "        :type s: str\n",
    "        :rtype: bool\n",
    "        \"\"\"\n",
    "        brackets = {\n",
    "            \")\": \"(\",\n",
    "            \"]\": \"[\",\n",
    "            \"}\": \"{\"\n",
    "        }\n",
    "        stack = []\n",
    "        for char in s:\n",
    "            if char in \"([{\":\n",
    "                stack.append(char)\n",
    "                print(f\"stack before: {stack}\")\n",
    "            elif char in \")]}\":\n",
    "                if not stack or stack.pop() != brackets[char]:\n",
    "                    print(\"are you here\")\n",
    "                    return False\n",
    "            print(f\"stack after: {stack}\")\n",
    "\n",
    "        return not stack\n"
   ]
  },
  {
   "cell_type": "code",
   "execution_count": 111,
   "metadata": {},
   "outputs": [],
   "source": [
    "s = \"()\""
   ]
  },
  {
   "cell_type": "code",
   "execution_count": 112,
   "metadata": {},
   "outputs": [
    {
     "name": "stdout",
     "output_type": "stream",
     "text": [
      "stack before: ['(']\n",
      "stack after: ['(']\n",
      "stack after: []\n"
     ]
    },
    {
     "data": {
      "text/plain": [
       "True"
      ]
     },
     "execution_count": 112,
     "metadata": {},
     "output_type": "execute_result"
    }
   ],
   "source": [
    "Solution().isValid(s)"
   ]
  },
  {
   "cell_type": "code",
   "execution_count": 113,
   "metadata": {},
   "outputs": [
    {
     "name": "stdout",
     "output_type": "stream",
     "text": [
      "stack before: ['(']\n",
      "stack after: ['(']\n",
      "stack after: []\n"
     ]
    }
   ],
   "source": [
    "assert Solution().isValid(s) == True"
   ]
  },
  {
   "attachments": {},
   "cell_type": "markdown",
   "metadata": {},
   "source": [
    "### Prob 6: Missing Numbers\n",
    "\n",
    "Given an array nums containing n distinct numbers in the range [0, n], return the only number in the range that is missing from the array."
   ]
  },
  {
   "cell_type": "code",
   "execution_count": 114,
   "metadata": {},
   "outputs": [],
   "source": [
    "# Input: nums = [3,0,1]\n",
    "# Output: 2\n",
    "# Explanation: n = 3 since there are 3 numbers, so all numbers are in the range [0,3]. 2 is the missing number in the range since it does not appear in nums"
   ]
  },
  {
   "cell_type": "code",
   "execution_count": 130,
   "metadata": {},
   "outputs": [],
   "source": [
    "class Solution(object):\n",
    "    def missingNumber(self, nums):\n",
    "        \"\"\"\n",
    "        :type nums: List[int]\n",
    "        :rtype: int\n",
    "        \"\"\"\n",
    "        expected_sum = (0 + len(nums)) * (len(nums) + 1) // 2\n",
    "        actual_sum = sum(nums)\n",
    "        return expected_sum - actual_sum\n",
    "\n"
   ]
  },
  {
   "cell_type": "code",
   "execution_count": 131,
   "metadata": {},
   "outputs": [],
   "source": [
    "nums = [3,0,1]"
   ]
  },
  {
   "cell_type": "code",
   "execution_count": 132,
   "metadata": {},
   "outputs": [
    {
     "data": {
      "text/plain": [
       "2"
      ]
     },
     "execution_count": 132,
     "metadata": {},
     "output_type": "execute_result"
    }
   ],
   "source": [
    "Solution().missingNumber(nums)"
   ]
  },
  {
   "cell_type": "code",
   "execution_count": null,
   "metadata": {},
   "outputs": [],
   "source": []
  }
 ],
 "metadata": {
  "kernelspec": {
   "display_name": "Python 3",
   "language": "python",
   "name": "python3"
  },
  "language_info": {
   "codemirror_mode": {
    "name": "ipython",
    "version": 3
   },
   "file_extension": ".py",
   "mimetype": "text/x-python",
   "name": "python",
   "nbconvert_exporter": "python",
   "pygments_lexer": "ipython3",
   "version": "3.8.10"
  },
  "orig_nbformat": 4
 },
 "nbformat": 4,
 "nbformat_minor": 2
}
