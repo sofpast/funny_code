{
 "cells": [
  {
   "attachments": {},
   "cell_type": "markdown",
   "metadata": {},
   "source": [
    "### Linked List\n",
    "- Array is sequential list of data. That mean each element will be store right after the previous one in memory. If the array is really big, we are low on memory. But the flip side is array is ready fast, each element follows from the previous one in memory, no need to jum about different memory location.\n",
    "- Pointer structures: contrary to arrays, pointer structures are lists of items that can be spread out in memory. This is can contains more links to other items in stucture. Pros. Dont require sequential storage, can grow arbitrarily as you can add more nodes to the structure.\n",
    "- Node is the heard of the list. Node represents by value and next."
   ]
  },
  {
   "attachments": {},
   "cell_type": "markdown",
   "metadata": {},
   "source": [
    "### Prob 1: Delete Node in a Linked List"
   ]
  },
  {
   "cell_type": "code",
   "execution_count": 1,
   "metadata": {},
   "outputs": [],
   "source": [
    "head = [4,5,1,9]\n",
    "node = 5\n",
    "# Output: [4,1,9]"
   ]
  },
  {
   "cell_type": "code",
   "execution_count": 44,
   "metadata": {},
   "outputs": [],
   "source": [
    "# Definition for singly-linked list.\n",
    "class ListNode:\n",
    "    def __init__(self, x):\n",
    "        self.val = x\n",
    "        self.next = None\n",
    "\n",
    "class LinkedList:\n",
    "    def __init__(self):\n",
    "        self.head = None # reference of the head\n",
    "\n",
    "    def deleteNode(self, node):\n",
    "        \"\"\"\n",
    "        :type node: ListNode\n",
    "        :rtype: void Do not return anything, modify node in-place instead.\n",
    "        \"\"\"\n",
    "        node.val = node.next.val\n",
    "        node.next = node.next.next\n",
    "        "
   ]
  },
  {
   "cell_type": "code",
   "execution_count": 38,
   "metadata": {},
   "outputs": [],
   "source": [
    "class Node:\n",
    "    def __init__(self, data):\n",
    "        self.data = data\n",
    "        self.next = None\n",
    "\n",
    "class LinkedList:\n",
    "    def __init__(self):\n",
    "        self.head = None\n",
    "\n",
    "    def add_node(self, data):\n",
    "        new_node = Node(data)\n",
    "        if self.head is None:\n",
    "            self.head = new_node\n",
    "        else:\n",
    "            current_node = self.head\n",
    "            while current_node.next is not None:\n",
    "                current_node = current_node.next\n",
    "            current_node.next = new_node\n",
    "\n",
    "    def delete_node(self, data):\n",
    "        if self.head is None:\n",
    "            return\n",
    "        current_node = self.head\n",
    "        previous_node = None\n",
    "        while current_node is not None and current_node.data != data:\n",
    "            previous_node = current_node\n",
    "            current_node = current_node.next\n",
    "        if current_node is None:\n",
    "            return\n",
    "        if previous_node is None:\n",
    "            self.head = current_node.next\n",
    "        else:\n",
    "            previous_node.next = current_node.next\n",
    "\n",
    "    def print_list(self):\n",
    "        current_node = self.head\n",
    "        while current_node is not None:\n",
    "            print(current_node.data)\n",
    "            current_node = current_node.next\n",
    "\n",
    "\n"
   ]
  },
  {
   "cell_type": "code",
   "execution_count": 40,
   "metadata": {},
   "outputs": [
    {
     "name": "stdout",
     "output_type": "stream",
     "text": [
      "1\n",
      "2\n",
      "3\n"
     ]
    }
   ],
   "source": [
    "if __name__ == \"__main__\":\n",
    "    linked_list = LinkedList()\n",
    "    linked_list.add_node(1)\n",
    "    linked_list.add_node(2)\n",
    "    linked_list.add_node(3)\n",
    "    # linked_list.print_list()\n",
    "    # linked_list.delete_node(2)\n",
    "    linked_list.print_list()"
   ]
  },
  {
   "attachments": {},
   "cell_type": "markdown",
   "metadata": {},
   "source": [
    "### Prob 2: Given the head of a linked list, remove the nth node from the end of the list and return its head."
   ]
  },
  {
   "cell_type": "code",
   "execution_count": 11,
   "metadata": {},
   "outputs": [],
   "source": [
    "# Definition for singly-linked list.\n",
    "class ListNode(object):\n",
    "    def __init__(self, val=0, next=None):\n",
    "        self.val = val\n",
    "        self.next = next\n",
    "def printList(head):\n",
    "    ptr = head\n",
    "    while(ptr != None):\n",
    "        print (ptr.val, end =\" \")\n",
    "        ptr = ptr.next\n",
    "    print()\n",
    "def lengthList(head):\n",
    "    temp = head\n",
    "    count = 0\n",
    "    while temp.next is not None:\n",
    "        count += 1\n",
    "        temp = head.next\n",
    "    return count\n",
    " \n",
    "class Solution(object):\n",
    "    def removeNthFromEnd(self, head, n):\n",
    "        \"\"\"\n",
    "        :type head: ListNode\n",
    "        :type n: int\n",
    "        :rtype: ListNode\n",
    "        \"\"\"\n",
    "        Length = lengthList(head)\n",
    "        NodeFromBegining = Length - n + 1\n",
    "        prev = None\n",
    "        temp = head\n",
    "        for i in range(NodeFromBegining):\n",
    "            prev = temp\n",
    "            temp = temp.next\n",
    "        if prev is None:\n",
    "            head = head.next\n",
    "            return head\n",
    "        else:\n",
    "            prev = prev.next.next\n",
    "            return head\n"
   ]
  },
  {
   "cell_type": "code",
   "execution_count": 10,
   "metadata": {},
   "outputs": [
    {
     "name": "stdout",
     "output_type": "stream",
     "text": [
      "1 2 3 4 \n"
     ]
    }
   ],
   "source": [
    "head = ListNode(1)\n",
    "head.next = ListNode(2)\n",
    "head.next.next = ListNode(3)\n",
    "head.next.next.next = ListNode(4)\n",
    "printList(head)"
   ]
  },
  {
   "cell_type": "code",
   "execution_count": null,
   "metadata": {},
   "outputs": [],
   "source": [
    "sol = Solution()\n",
    "sol.removeNthFromEnd(head, 2)"
   ]
  },
  {
   "attachments": {},
   "cell_type": "markdown",
   "metadata": {},
   "source": [
    "### Prob 3: Reverse Linked List\n",
    "> Given the head of a singly linked list, reverse the list, and return the reversed list."
   ]
  },
  {
   "cell_type": "code",
   "execution_count": 1,
   "metadata": {},
   "outputs": [],
   "source": [
    "# Input: head = [1,2,3,4,5]\n",
    "# Output: [5,4,3,2,1]"
   ]
  },
  {
   "cell_type": "code",
   "execution_count": 17,
   "metadata": {},
   "outputs": [],
   "source": [
    "# Definition for singly-linked list.\n",
    "class ListNode(object):\n",
    "    def __init__(self, val=0, next=None):\n",
    "        self.val = val\n",
    "        self.next = next\n",
    "def printList(head):\n",
    "    ptr = head\n",
    "    while ptr is not None:\n",
    "        print(ptr.val)\n",
    "        ptr = ptr.next\n",
    "class Solution(object):\n",
    "    def reverseList(self, head):\n",
    "        \"\"\"\n",
    "        :type head: ListNode\n",
    "        :rtype: ListNode\n",
    "        \"\"\"\n",
    "        current_node = head\n",
    "        prev_node = None\n",
    "        while current_node is not None:\n",
    "            next_node = current_node.next\n",
    "            current_node.next = prev_node\n",
    "            prev_node = current_node\n",
    "            current_node = next_node\n",
    "        head = prev_node\n",
    "        return head\n",
    "\n"
   ]
  },
  {
   "cell_type": "code",
   "execution_count": 19,
   "metadata": {},
   "outputs": [
    {
     "name": "stdout",
     "output_type": "stream",
     "text": [
      "5\n",
      "4\n",
      "3\n",
      "2\n",
      "1\n"
     ]
    }
   ],
   "source": [
    "head = ListNode(1)\n",
    "head.next = ListNode(2)\n",
    "head.next.next = ListNode(3)\n",
    "head.next.next.next = ListNode(4)\n",
    "head.next.next.next.next = ListNode(5)\n",
    "sol = Solution()\n",
    "head1 = sol.reverseList(head)\n",
    "printList(head1)"
   ]
  },
  {
   "attachments": {},
   "cell_type": "markdown",
   "metadata": {},
   "source": [
    "### Prob 4: Merge Two Sorted Lists"
   ]
  },
  {
   "cell_type": "code",
   "execution_count": 1,
   "metadata": {},
   "outputs": [],
   "source": [
    "# Input: list1 = [1,2,4], list2 = [1,3,4]\n",
    "# Output: [1,1,2,3,4,4]"
   ]
  },
  {
   "attachments": {},
   "cell_type": "markdown",
   "metadata": {},
   "source": [
    "Ideas:\n",
    "- 1) Create a merged_head and assign current to it\n",
    "- 2) if list1 and list2:\n",
    "  - Assign current.next to list1 or list2 with smaller val\n",
    "  - Then continue until either list1 or 2 is None\n",
    "- 3) Now we have the rest of list1 or list2:\n",
    "  - Append the rest to current.next"
   ]
  },
  {
   "cell_type": "code",
   "execution_count": 37,
   "metadata": {},
   "outputs": [],
   "source": [
    "# Definition for singly-linked list.\n",
    "class ListNode(object):\n",
    "    def __init__(self, val=0, next=None):\n",
    "        self.val = val\n",
    "        self.next = next\n",
    "def printList(head):\n",
    "    ptr = head\n",
    "    while ptr is not None:\n",
    "        print(ptr.val)\n",
    "        ptr = ptr.next\n",
    "\n",
    "class Solution(object):\n",
    "    def mergeTwoLists(self, list1, list2):\n",
    "        \"\"\"\n",
    "        :type list1: Optional[ListNode]\n",
    "        :type list2: Optional[ListNode]\n",
    "        :rtype: Optional[ListNode]\n",
    "        \"\"\"\n",
    "        printList(list1)\n",
    "        printList(list2)\n",
    "        merged_head = ListNode()\n",
    "        current = merged_head\n",
    "        printList(merged_head)\n",
    "\n",
    "        while list1 and list2:\n",
    "            if list1.val <= list2.val:\n",
    "                current.next = list1\n",
    "                list1 = list1.next\n",
    "            else:\n",
    "                current.next = list2\n",
    "                list2 = list2.next\n",
    "            \n",
    "            current = current.next\n",
    "        #append to rest of available linked list\n",
    "        current.next = list1 if list1 else list2\n",
    "        \n",
    "        return merged_head.next\n",
    "\n"
   ]
  },
  {
   "cell_type": "code",
   "execution_count": 38,
   "metadata": {},
   "outputs": [
    {
     "name": "stdout",
     "output_type": "stream",
     "text": [
      "1\n",
      "2\n",
      "4\n",
      "1\n",
      "3\n",
      "4\n",
      "1\n",
      "2\n",
      "4\n",
      "1\n",
      "3\n",
      "4\n",
      "0\n",
      "1\n",
      "1\n",
      "2\n",
      "3\n",
      "4\n",
      "4\n"
     ]
    }
   ],
   "source": [
    "head = ListNode(1)\n",
    "head.next = ListNode(2)\n",
    "head.next.next = ListNode(4)\n",
    "printList(head)\n",
    "\n",
    "head2 = ListNode(1)\n",
    "head2.next = ListNode(3)\n",
    "head2.next.next = ListNode(4)\n",
    "printList(head2)\n",
    "\n",
    "sol = Solution()\n",
    "new_head = sol.mergeTwoLists(head, head2)\n",
    "printList(new_head)"
   ]
  },
  {
   "attachments": {},
   "cell_type": "markdown",
   "metadata": {},
   "source": [
    "### Prob 5: Given the head of a singly linked list, return true if it is a palindrome or false otherwise."
   ]
  },
  {
   "cell_type": "code",
   "execution_count": 1,
   "metadata": {},
   "outputs": [],
   "source": [
    "# Input: head = [1,2,2,1]\n",
    "# Output: true"
   ]
  },
  {
   "attachments": {},
   "cell_type": "markdown",
   "metadata": {},
   "source": [
    "### Ideas\n",
    ">+ Using fast and slow runner to divide into two linked lists\n",
    ">+ Reverse second linked list\n",
    ">+ Compare first and second"
   ]
  },
  {
   "cell_type": "code",
   "execution_count": 32,
   "metadata": {},
   "outputs": [],
   "source": [
    "# Definition for singly-linked list.\n",
    "class ListNode(object):\n",
    "    def __init__(self, val=0, next=None):\n",
    "        self.val = val\n",
    "        self.next = next\n",
    "def printList(head):\n",
    "    ptr = head\n",
    "    while ptr is not None:\n",
    "        print(ptr.val)\n",
    "        ptr = ptr.next\n",
    "class Solution(object):\n",
    "    def isPalindrome(self, head):\n",
    "        \"\"\"\n",
    "        :type head: ListNode\n",
    "        :rtype: bool\n",
    "        \"\"\"\n",
    "        fast = slow = head\n",
    "        \n",
    "        # divide into two lists\n",
    "        while fast.next and fast:\n",
    "            fast = fast.next.next\n",
    "            slow = slow.next\n",
    "        printList(slow)\n",
    "        printList(fast)\n",
    "        \n",
    "        # reversed second list\n",
    "        prev = ListNode()\n",
    "        while slow:\n",
    "            next_node = slow.next\n",
    "            slow.next = prev\n",
    "            prev = slow\n",
    "            slow = next_node\n",
    "        print(\"---second list\")\n",
    "        printList(prev)\n",
    "        print(\"--- head---\")\n",
    "        printList(head)\n",
    "        print(\"---slow---\")\n",
    "        printList(slow)\n",
    "\n",
    "        while prev:\n",
    "            if prev.val != head.val:\n",
    "                return False\n",
    "            prev = prev.next\n",
    "            head = head.next\n",
    "        return True\n",
    "\n",
    "\n",
    "\n"
   ]
  },
  {
   "cell_type": "code",
   "execution_count": 33,
   "metadata": {},
   "outputs": [
    {
     "name": "stdout",
     "output_type": "stream",
     "text": [
      "1\n",
      "2\n",
      "2\n",
      "1\n",
      "3\n",
      "---\n",
      "2\n",
      "1\n",
      "3\n",
      "3\n",
      "---second list\n",
      "3\n",
      "1\n",
      "2\n",
      "0\n",
      "--- head---\n",
      "1\n",
      "2\n",
      "2\n",
      "0\n",
      "slow\n"
     ]
    },
    {
     "data": {
      "text/plain": [
       "False"
      ]
     },
     "execution_count": 33,
     "metadata": {},
     "output_type": "execute_result"
    }
   ],
   "source": [
    "head = ListNode(1)\n",
    "head.next = ListNode(2)\n",
    "head.next.next = ListNode(2)\n",
    "head.next.next.next = ListNode(1)\n",
    "head.next.next.next.next = ListNode(3)\n",
    "printList(head)\n",
    "print(\"---\")\n",
    "sol = Solution()\n",
    "sol.isPalindrome(head)"
   ]
  },
  {
   "cell_type": "code",
   "execution_count": null,
   "metadata": {},
   "outputs": [],
   "source": []
  }
 ],
 "metadata": {
  "kernelspec": {
   "display_name": "Python 3",
   "language": "python",
   "name": "python3"
  },
  "language_info": {
   "codemirror_mode": {
    "name": "ipython",
    "version": 3
   },
   "file_extension": ".py",
   "mimetype": "text/x-python",
   "name": "python",
   "nbconvert_exporter": "python",
   "pygments_lexer": "ipython3",
   "version": "3.8.10"
  },
  "orig_nbformat": 4
 },
 "nbformat": 4,
 "nbformat_minor": 2
}
