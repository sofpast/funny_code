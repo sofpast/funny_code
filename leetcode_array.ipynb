{
 "cells": [
  {
   "attachments": {},
   "cell_type": "markdown",
   "metadata": {},
   "source": [
    "### Prob 1: Single Number"
   ]
  },
  {
   "cell_type": "code",
   "execution_count": 1,
   "metadata": {},
   "outputs": [],
   "source": [
    "class Solution(object):\n",
    "    def singleNumber(self, nums):\n",
    "        \"\"\"\n",
    "        :type nums: List[int]\n",
    "        :rtype: int\n",
    "        \"\"\"\n",
    "        seen = {}\n",
    "        # create a seen dict\n",
    "        for num in nums:\n",
    "            if num not in seen:\n",
    "                seen[num] = 0\n",
    "            seen[num] += 1\n",
    "            \n",
    "        for num, count in seen.items():\n",
    "            if count == 1:\n",
    "                return num\n",
    "            \n",
    "        return 0"
   ]
  },
  {
   "cell_type": "code",
   "execution_count": 3,
   "metadata": {},
   "outputs": [
    {
     "data": {
      "text/plain": [
       "4"
      ]
     },
     "execution_count": 3,
     "metadata": {},
     "output_type": "execute_result"
    }
   ],
   "source": [
    "nums = [4,1,2,1,2]\n",
    "sol = Solution()\n",
    "sol.singleNumber(nums)"
   ]
  },
  {
   "cell_type": "code",
   "execution_count": null,
   "metadata": {},
   "outputs": [],
   "source": [
    "# This works fine but a lot of memory and time. I am thinking about new way."
   ]
  },
  {
   "attachments": {},
   "cell_type": "markdown",
   "metadata": {},
   "source": [
    "### Prob 2: Intersection of Two Arrays II\n",
    "> Given two integer arrays nums1 and nums2, return an array of their intersection. Each element in the result must appear as many times as it shows in both arrays and you may return the result in any order."
   ]
  },
  {
   "cell_type": "code",
   "execution_count": 1,
   "metadata": {},
   "outputs": [],
   "source": [
    "# Input: nums1 = [1,2,2,1], nums2 = [2,2]\n",
    "# Output: [2,2]"
   ]
  },
  {
   "cell_type": "code",
   "execution_count": 41,
   "metadata": {},
   "outputs": [],
   "source": [
    "class Solution(object):\n",
    "    def intersection(self, nums1, nums2):\n",
    "        if len(nums1) <= len(nums2):\n",
    "            min_nums = nums1\n",
    "            max_nums = nums2\n",
    "        else:\n",
    "            min_nums = nums2\n",
    "            max_nums = nums1\n",
    "\n",
    "        intersection = []\n",
    "        print(f'min_nums {min_nums}')\n",
    "\n",
    "        for num in min_nums:\n",
    "            if num in max_nums:\n",
    "                intersection.append(num)\n",
    "                max_nums.remove(num)\n",
    "        return intersection\n"
   ]
  },
  {
   "cell_type": "code",
   "execution_count": 42,
   "metadata": {},
   "outputs": [
    {
     "name": "stdout",
     "output_type": "stream",
     "text": [
      "min_nums [1, 1]\n",
      "1\n"
     ]
    },
    {
     "data": {
      "text/plain": [
       "[1]"
      ]
     },
     "execution_count": 42,
     "metadata": {},
     "output_type": "execute_result"
    }
   ],
   "source": [
    "nums1 = [3,2,1]\n",
    "nums2 = [1,1]\n",
    "sol = Solution()\n",
    "sol.intersection(nums1, nums2)"
   ]
  },
  {
   "cell_type": "code",
   "execution_count": 39,
   "metadata": {},
   "outputs": [],
   "source": [
    "class Solution(object):\n",
    "    def intersection(self, nums1, nums2):\n",
    "        return list(set(nums1)&set(nums2))"
   ]
  },
  {
   "cell_type": "code",
   "execution_count": 43,
   "metadata": {},
   "outputs": [
    {
     "name": "stdout",
     "output_type": "stream",
     "text": [
      "min_nums [2, 2]\n",
      "2\n",
      "2\n"
     ]
    },
    {
     "data": {
      "text/plain": [
       "[2, 2]"
      ]
     },
     "execution_count": 43,
     "metadata": {},
     "output_type": "execute_result"
    }
   ],
   "source": [
    "nums1 = [1,2,2,1]\n",
    "nums2 = [2,2]\n",
    "sol = Solution()\n",
    "sol.intersection(nums1, nums2)"
   ]
  },
  {
   "attachments": {},
   "cell_type": "markdown",
   "metadata": {},
   "source": [
    "# Prob 3: Plus One\n",
    "> You are given a large integer represented as an integer array digits, where each digits[i] is the ith digit of the integer. The digits are ordered from most significant to least significant in left-to-right order. The large integer does not contain any leading 0's.\n",
    ">Increment the large integer by one and return the resulting array of digits."
   ]
  },
  {
   "cell_type": "code",
   "execution_count": 44,
   "metadata": {},
   "outputs": [],
   "source": [
    "# Input: digits = [1,2,3]\n",
    "# Output: [1,2,4]\n",
    "# Explanation: The array represents the integer 123.\n",
    "# Incrementing by one gives 123 + 1 = 124.\n",
    "# Thus, the result should be [1,2,4]."
   ]
  },
  {
   "cell_type": "code",
   "execution_count": 62,
   "metadata": {},
   "outputs": [],
   "source": [
    "class Solution(object):\n",
    "    def plusOne(self, digits):\n",
    "        if len(digits) == 0:\n",
    "            return 0\n",
    "        sum_digits = 0\n",
    "        for digit in digits:\n",
    "            sum_digits = sum_digits * 10 + digit\n",
    "        sum_digits += 1\n",
    "\n",
    "        plus_one = []\n",
    "        for i in str(sum_digits).lstrip(\"0\"):\n",
    "            plus_one.append(int(i))\n",
    "        \n",
    "        return plus_one"
   ]
  },
  {
   "cell_type": "code",
   "execution_count": 63,
   "metadata": {},
   "outputs": [
    {
     "data": {
      "text/plain": [
       "[1, 2, 4]"
      ]
     },
     "execution_count": 63,
     "metadata": {},
     "output_type": "execute_result"
    }
   ],
   "source": [
    "digits = [1,2,3]\n",
    "sol = Solution()\n",
    "sol.plusOne(digits)"
   ]
  },
  {
   "attachments": {},
   "cell_type": "markdown",
   "metadata": {},
   "source": [
    "### Prob 4: Moves Zeroes\n",
    "> Given an integer array nums, move all 0's to the end of it while maintaining the relative order of the non-zero elements.\n",
    "> Note that you must do this in-place without making a copy of the array."
   ]
  },
  {
   "cell_type": "code",
   "execution_count": null,
   "metadata": {},
   "outputs": [],
   "source": [
    "Input: nums = [0,1,0,3,12]\n",
    "Output: [1,3,12,0,0]"
   ]
  },
  {
   "cell_type": "code",
   "execution_count": 43,
   "metadata": {},
   "outputs": [],
   "source": [
    "class Solution(object):\n",
    "    def moveZeroes(self, nums):\n",
    "        count = 0\n",
    "        for num in nums:\n",
    "            if num == 0:\n",
    "                count += 1\n",
    "                nums.remove(num)\n",
    "                nums += [0]\n",
    "        # nums += count * [0]\n",
    "        return nums\n",
    "# This fail for the case [0,0,1]"
   ]
  },
  {
   "cell_type": "code",
   "execution_count": 47,
   "metadata": {},
   "outputs": [],
   "source": [
    "class Solution(object):\n",
    "    def moveZeroes(self, nums):\n",
    "        non_zero_index = 0\n",
    "\n",
    "        for i in range(len(nums)):\n",
    "            if nums[i] != 0:\n",
    "                nums[non_zero_index], nums[i] = nums[i], nums[non_zero_index]\n",
    "                non_zero_index += 1\n",
    "        return nums"
   ]
  },
  {
   "cell_type": "code",
   "execution_count": 48,
   "metadata": {},
   "outputs": [
    {
     "data": {
      "text/plain": [
       "[1, 3, 12, 0, 0]"
      ]
     },
     "execution_count": 48,
     "metadata": {},
     "output_type": "execute_result"
    }
   ],
   "source": [
    "nums = [0,1,0,3,12]\n",
    "sol = Solution()\n",
    "sol.moveZeroes(nums)"
   ]
  },
  {
   "cell_type": "code",
   "execution_count": null,
   "metadata": {},
   "outputs": [],
   "source": [
    "# The second is much more effective"
   ]
  },
  {
   "attachments": {},
   "cell_type": "markdown",
   "metadata": {},
   "source": [
    "### Prob 5: Two Sum\n",
    "> Given an array of integers nums and an integer target, return indices of the two numbers such that they add up to target. You may assume that each input would have exactly one solution, and you may not use the same element twice. You can return the answer in any order."
   ]
  },
  {
   "attachments": {},
   "cell_type": "markdown",
   "metadata": {},
   "source": [
    "Input: nums = [2,7,11,15], target = 9\n",
    "Output: [0,1]\n",
    "Explanation: Because nums[0] + nums[1] == 9, we return [0, 1]."
   ]
  },
  {
   "cell_type": "code",
   "execution_count": 87,
   "metadata": {},
   "outputs": [],
   "source": [
    "class Solution(object):\n",
    "    def twoSum(self, nums, target):\n",
    "        seen = []\n",
    "        for i in range(len(nums)):\n",
    "            distance = target - nums[i]\n",
    "            if distance in seen:                \n",
    "                return [i, seen.index(distance)]\n",
    "            else:\n",
    "                seen.append(nums[i])\n",
    "            # print(f'distance{distance}')\n",
    "            \n",
    "        \n",
    "        return None\n"
   ]
  },
  {
   "cell_type": "code",
   "execution_count": 88,
   "metadata": {},
   "outputs": [
    {
     "data": {
      "text/plain": [
       "[1, 0]"
      ]
     },
     "execution_count": 88,
     "metadata": {},
     "output_type": "execute_result"
    }
   ],
   "source": [
    "nums = [3,3]\n",
    "target = 6\n",
    "sol = Solution()\n",
    "sol.twoSum(nums, target)"
   ]
  },
  {
   "attachments": {},
   "cell_type": "markdown",
   "metadata": {},
   "source": [
    "# Prob 6: Valid Sodoku\n",
    "> Determine if a 9 x 9 Sudoku board is valid. Only the filled cells need to be validated according to the following rules:\n",
    ">- Each row must contain the digits 1-9 without repetition.\n",
    ">- Each column must contain the digits 1-9 without repetition.\n",
    ">- Each of the nine 3 x 3 sub-boxes of the grid must contain the digits 1-9 without repetition."
   ]
  },
  {
   "cell_type": "code",
   "execution_count": 65,
   "metadata": {},
   "outputs": [],
   "source": [
    "class Solution(object):\n",
    "    def isValidSodoku(self, board):\n",
    "        # check valid row\n",
    "        for row in board:\n",
    "            tmp = [i for i in row if i != \".\"]\n",
    "            # print(tmp)\n",
    "            if len(tmp) != len(set(tmp)):\n",
    "                return False\n",
    "        # check valid col\n",
    "        for col in range(9):\n",
    "            tmp = [board[row][col] for row in range(9) if board[row][col] != \".\"]\n",
    "            if len(tmp) != len(set(tmp)):\n",
    "                return False\n",
    "        # check 3x3, get value of a current 3x3 block to a list\n",
    "        for i in range(3):\n",
    "            for j in range(3):\n",
    "                block = [board[i * 3 + r][j * 3 + c] for r in range(3) for c in range(3)]\n",
    "                if len(block) != len(set(block)):\n",
    "                    return False"
   ]
  },
  {
   "cell_type": "code",
   "execution_count": 66,
   "metadata": {},
   "outputs": [
    {
     "data": {
      "text/plain": [
       "False"
      ]
     },
     "execution_count": 66,
     "metadata": {},
     "output_type": "execute_result"
    }
   ],
   "source": [
    "board = [[\"5\",\"3\",\".\",\".\",\"7\",\".\",\".\",\".\",\".\"] \\\n",
    ",[\"6\",\".\",\".\",\"1\",\"9\",\"5\",\".\",\".\",\".\"] \\\n",
    ",[\".\",\"9\",\"8\",\".\",\".\",\".\",\".\",\"6\",\".\"] \\\n",
    ",[\"8\",\".\",\".\",\".\",\"6\",\".\",\".\",\".\",\"3\"] \\\n",
    ",[\"4\",\".\",\".\",\"8\",\".\",\"3\",\".\",\".\",\"1\"]\n",
    ",[\"7\",\".\",\".\",\".\",\"2\",\".\",\".\",\".\",\"6\"]\n",
    ",[\".\",\"6\",\".\",\".\",\".\",\".\",\"2\",\"8\",\".\"]\n",
    ",[\".\",\".\",\".\",\"4\",\"1\",\"9\",\".\",\".\",\"5\"]\n",
    ",[\".\",\".\",\".\",\".\",\"8\",\".\",\".\",\"7\",\"9\"]]\n",
    "sol = Solution()\n",
    "sol.isValidSodoku(board)\n",
    "# true"
   ]
  },
  {
   "cell_type": "code",
   "execution_count": null,
   "metadata": {},
   "outputs": [],
   "source": []
  }
 ],
 "metadata": {
  "kernelspec": {
   "display_name": "Python 3",
   "language": "python",
   "name": "python3"
  },
  "language_info": {
   "codemirror_mode": {
    "name": "ipython",
    "version": 3
   },
   "file_extension": ".py",
   "mimetype": "text/x-python",
   "name": "python",
   "nbconvert_exporter": "python",
   "pygments_lexer": "ipython3",
   "version": "3.11.2"
  },
  "orig_nbformat": 4
 },
 "nbformat": 4,
 "nbformat_minor": 2
}
