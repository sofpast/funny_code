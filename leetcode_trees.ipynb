{
 "cells": [
  {
   "attachments": {},
   "cell_type": "markdown",
   "metadata": {},
   "source": [
    "### Trees\n",
    "- Tree is kind of a parent-child relationship between items\n",
    "- Terms:\n",
    "  - Node and root node\n",
    "  - Sub tree: no of sub-strees of a given node\n",
    "  - Leaf node: a node with degree = 0\n",
    "  - Level of a node: no of connection from the root node\n",
    "  - Depth: number of edges from the root node of the tree to that node"
   ]
  },
  {
   "attachments": {},
   "cell_type": "markdown",
   "metadata": {},
   "source": [
    "### Binary Trees\n",
    "- Binary Tree: A binary tree is one in which each node has a maximum of two children. Binary trees are very common and we shall use them to build up a BST implementation in\n",
    "Python.\n",
    "- A regular binary tree has no rules as to how elements are arranged in the tree. It only satisfies the condition that each node should have a maximum of two children.\n",
    "### Binary Search Trees (BST):\n",
    "- A binary search tree (BST) is a special kind of a binary tree. That is, it is a tree that is structurally a binary tree. Functionally, it is a tree that stores its nodes in such a way to be able to search through the tree efficiently.\n",
    "There is a structure to a BST. For a given node with a value, all the nodes in the left sub-tree are less than or equal to the value of that node. Also, all the nodes in the right sub-tree of this node are greater than that of the parent node. As an example, consider the following tree:"
   ]
  },
  {
   "attachments": {},
   "cell_type": "markdown",
   "metadata": {},
   "source": [
    "### Prob 1: Maximum Depth of Binary Tree"
   ]
  },
  {
   "cell_type": "code",
   "execution_count": 7,
   "metadata": {},
   "outputs": [],
   "source": [
    "# Definition for a binary tree node.\n",
    "class TreeNode(object):\n",
    "    def __init__(self, val=0, left=None, right=None):\n",
    "        self.val = val\n",
    "        self.left = left\n",
    "        self.right = right\n",
    "def inorder(root_node):\n",
    "    current = root_node\n",
    "    while current is None:\n",
    "        return\n",
    "    print(current.val)\n",
    "    inorder(current.left)\n",
    "    inorder(current.right)    \n",
    "\n",
    "class Solution(object):\n",
    "    def maxDepth(self, root):\n",
    "        \"\"\"\n",
    "        :type root: TreeNode\n",
    "        :rtype: int\n",
    "        \"\"\"\n",
    "        if root is None:\n",
    "            return 0\n",
    "        else:\n",
    "            left_depth = self.maxDepth(root.left)\n",
    "            right_depth = self.maxDepth(root.right)\n",
    "            return max(left_depth, right_depth) + 1"
   ]
  },
  {
   "cell_type": "code",
   "execution_count": 2,
   "metadata": {},
   "outputs": [],
   "source": [
    "# Input: root = [3,9,20,null,null,15,7]\n",
    "# Output: 3"
   ]
  },
  {
   "cell_type": "code",
   "execution_count": 15,
   "metadata": {},
   "outputs": [
    {
     "name": "stdout",
     "output_type": "stream",
     "text": [
      "9--3--15--20--7--"
     ]
    }
   ],
   "source": [
    "root_node = TreeNode(3)\n",
    "root_node.left = TreeNode(9)\n",
    "root_node.right = TreeNode(20)\n",
    "root_node.right.left = TreeNode(15)\n",
    "root_node.right.right = TreeNode(7)\n",
    "inorder(root_node)"
   ]
  },
  {
   "cell_type": "code",
   "execution_count": 16,
   "metadata": {},
   "outputs": [
    {
     "data": {
      "text/plain": [
       "3"
      ]
     },
     "execution_count": 16,
     "metadata": {},
     "output_type": "execute_result"
    }
   ],
   "source": [
    "sol = Solution()\n",
    "sol.maxDepth(root_node)"
   ]
  },
  {
   "attachments": {},
   "cell_type": "markdown",
   "metadata": {},
   "source": [
    "### Prob 2: Validate Binary Search Tree"
   ]
  },
  {
   "cell_type": "code",
   "execution_count": 22,
   "metadata": {},
   "outputs": [],
   "source": [
    "# Definition for a binary tree node.\n",
    "class TreeNode(object):\n",
    "    def __init__(self, val=0, left=None, right=None):\n",
    "        self.val = val\n",
    "        self.left = left\n",
    "        self.right = right\n",
    "def inorder(root):\n",
    "    current = root\n",
    "    while current is None:\n",
    "        return\n",
    "    print(current.val)\n",
    "    # print(current.right)\n",
    "    inorder(current.left)\n",
    "    inorder(current.right)\n",
    "\n",
    "    \n",
    "class Solution(object):\n",
    "    def isValidBST(self, root):\n",
    "        \"\"\"\n",
    "        :type root: TreeNode\n",
    "        :rtype: bool\n",
    "        \"\"\"\n",
    "        if root is None:\n",
    "            return True\n",
    "\n",
    "        def _validate(node, lower=float(\"-inf\"), upper=float(\"inf\")):\n",
    "            if node is None:\n",
    "                return True\n",
    "\n",
    "            if node.val <= lower or node.val >= upper:\n",
    "                return False\n",
    "\n",
    "            return _validate(node.left, lower, node.val) and _validate(node.right, node.val, upper)\n",
    "\n",
    "        return _validate(root)"
   ]
  },
  {
   "cell_type": "code",
   "execution_count": 23,
   "metadata": {},
   "outputs": [
    {
     "name": "stdout",
     "output_type": "stream",
     "text": [
      "2\n",
      "1\n",
      "3\n"
     ]
    }
   ],
   "source": [
    "# Input: root = [2,1,3]\n",
    "# [5,1,4,null,null,3,6]\n",
    "# Output: true\n",
    "root_node = TreeNode(2)\n",
    "root_node.left = TreeNode(1)\n",
    "root_node.right = TreeNode(3)\n",
    "# root_node.left.left = None\n",
    "# root_node.left.right = None\n",
    "# root_node.right.left = TreeNode(3)\n",
    "# root_node.right.right = TreeNode(6)\n",
    "inorder(root_node)"
   ]
  },
  {
   "cell_type": "code",
   "execution_count": 24,
   "metadata": {},
   "outputs": [
    {
     "name": "stdout",
     "output_type": "stream",
     "text": [
      "True\n"
     ]
    }
   ],
   "source": [
    "sol = Solution()\n",
    "print(sol.isValidBST(root_node))"
   ]
  },
  {
   "cell_type": "code",
   "execution_count": null,
   "metadata": {},
   "outputs": [],
   "source": []
  },
  {
   "cell_type": "code",
   "execution_count": null,
   "metadata": {},
   "outputs": [],
   "source": []
  }
 ],
 "metadata": {
  "kernelspec": {
   "display_name": "Python 3",
   "language": "python",
   "name": "python3"
  },
  "language_info": {
   "codemirror_mode": {
    "name": "ipython",
    "version": 3
   },
   "file_extension": ".py",
   "mimetype": "text/x-python",
   "name": "python",
   "nbconvert_exporter": "python",
   "pygments_lexer": "ipython3",
   "version": "3.11.2"
  },
  "orig_nbformat": 4
 },
 "nbformat": 4,
 "nbformat_minor": 2
}
