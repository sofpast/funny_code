{
 "cells": [
  {
   "attachments": {},
   "cell_type": "markdown",
   "metadata": {},
   "source": [
    "### Trees\n",
    "- Tree is kind of a parent-child relationship between items\n",
    "- Terms:\n",
    "  - Node and root node\n",
    "  - Sub tree: no of sub-strees of a given node\n",
    "  - Leaf node: a node with degree = 0\n",
    "  - Level of a node: no of connection from the root node\n",
    "  - Depth: number of edges from the root node of the tree to that node"
   ]
  },
  {
   "attachments": {},
   "cell_type": "markdown",
   "metadata": {},
   "source": [
    "### Binary Trees\n",
    "- Binary Tree: A binary tree is one in which each node has a maximum of two children. Binary trees are very common and we shall use them to build up a BST implementation in\n",
    "Python.\n",
    "- A regular binary tree has no rules as to how elements are arranged in the tree. It only satisfies the condition that each node should have a maximum of two children.\n",
    "### Binary Search Trees (BST):\n",
    "- A binary search tree (BST) is a special kind of a binary tree. That is, it is a tree that is structurally a binary tree. Functionally, it is a tree that stores its nodes in such a way to be able to search through the tree efficiently.\n",
    "There is a structure to a BST. For a given node with a value, all the nodes in the left sub-tree are less than or equal to the value of that node. Also, all the nodes in the right sub-tree of this node are greater than that of the parent node. As an example, consider the following tree:"
   ]
  },
  {
   "attachments": {},
   "cell_type": "markdown",
   "metadata": {},
   "source": [
    "### Thinking recursively\n",
    "\n",
    "Most of the trees' problems can be solved by `recursion`, so the key thing is to understand it. I found a nice and fun article about this: https://realpython.com/python-thinking-recursively/\n",
    "\n",
    "#### Recursive Functions in Python\n",
    "A recursive function is a function defined in terms of itself via `self-referential expressions`.\n",
    "\n",
    "This means that the function will continue to call itself and repeat its behavior until `some condition is met to return a result`. All recursive functions share a common structure made up of two parts: `base case` and `recursive case`.\n",
    "#### Recursive function for calculating n!\n",
    "\n",
    "1. Decompose the original problem into simpler instances of the same problem. This is the recursive case:\n",
    "```\n",
    "n! = n x (n−1) x (n−2) x (n−3) ⋅⋅⋅⋅ x 3 x 2 x 1\n",
    "n! = n x (n−1)!\n",
    "```\n",
    "As the large problem is broken down into successively less complex ones, those subproblems must eventually become so simple that they can be solved without further subdivision. This is the base case:\n",
    "```\n",
    "n! = n x (n−1)! \n",
    "n! = n x (n−1) x (n−2)!\n",
    "n! = n x (n−1) x (n−2) x (n−3)!\n",
    "⋅\n",
    "⋅\n",
    "n! = n x (n−1) x (n−2) x (n−3) ⋅⋅⋅⋅ x 3!\n",
    "n! = n x (n−1) x (n−2) x (n−3) ⋅⋅⋅⋅ x 3 x 2!\n",
    "n! = n x (n−1) x (n−2) x (n−3) ⋅⋅⋅⋅ x 3 x 2 x 1!\n",
    "```\n",
    "Here, 1! is our base case, and it equals 1.\n",
    "\n",
    "Recursive function for calculating n! implemented in Python:\n",
    "```\n",
    "def factorial_recursive(n):\n",
    "    # Base case: 1! = 1\n",
    "    if n == 1:\n",
    "        return 1\n",
    "\n",
    "    # Recursive case: n! = n * (n-1)!\n",
    "    else:\n",
    "        return n * factorial_recursive(n-1)\n",
    "```\n",
    "``` \n",
    ">>> factorial_recursive(5)\n",
    "120\n",
    "```\n",
    "Behind the scenes, each recursive call adds a stack frame (containing its execution context) to the call stack until we reach the base case. Then, the stack begins to unwind as each call returns its results."
   ]
  },
  {
   "attachments": {},
   "cell_type": "markdown",
   "metadata": {},
   "source": [
    "### Prob 1: Maximum Depth of Binary Tree"
   ]
  },
  {
   "cell_type": "code",
   "execution_count": 30,
   "metadata": {},
   "outputs": [],
   "source": [
    "# Definition for a binary tree node.\n",
    "class TreeNode(object):\n",
    "    def __init__(self, val=0, left=None, right=None):\n",
    "        self.val = val\n",
    "        self.left = left\n",
    "        self.right = right\n",
    "def inorder(root_node):\n",
    "    current = root_node\n",
    "    while current is None:\n",
    "        return\n",
    "    print(current.val)\n",
    "    inorder(current.left)\n",
    "    inorder(current.right)    \n",
    "\n",
    "class Solution(object):\n",
    "    def maxDepth(self, root):\n",
    "        \"\"\"\n",
    "        :type root: TreeNode\n",
    "        :rtype: int\n",
    "        \"\"\"\n",
    "        if root is None:\n",
    "            return 0\n",
    "        else:\n",
    "            print(\"depth\")\n",
    "            left_depth = self.maxDepth(root.left)\n",
    "            print(left_depth)\n",
    "            # right_depth = 0\n",
    "            right_depth = self.maxDepth(root.right)\n",
    "            print(right_depth)\n",
    "            return max(left_depth, right_depth) + 1\n",
    "            # return right_depth"
   ]
  },
  {
   "cell_type": "code",
   "execution_count": 31,
   "metadata": {},
   "outputs": [],
   "source": [
    "# Input: root = [3,9,20,null,null,15,7]\n",
    "# Output: 3"
   ]
  },
  {
   "cell_type": "code",
   "execution_count": 32,
   "metadata": {},
   "outputs": [
    {
     "name": "stdout",
     "output_type": "stream",
     "text": [
      "3\n",
      "9\n",
      "20\n",
      "15\n",
      "7\n"
     ]
    }
   ],
   "source": [
    "root_node = TreeNode(3)\n",
    "root_node.left = TreeNode(9)\n",
    "root_node.right = TreeNode(20)\n",
    "root_node.right.left = TreeNode(15)\n",
    "root_node.right.right = TreeNode(7)\n",
    "inorder(root_node)"
   ]
  },
  {
   "cell_type": "code",
   "execution_count": 33,
   "metadata": {},
   "outputs": [
    {
     "name": "stdout",
     "output_type": "stream",
     "text": [
      "depth\n",
      "depth\n",
      "0\n",
      "0\n",
      "1\n",
      "depth\n",
      "depth\n",
      "0\n",
      "0\n",
      "1\n",
      "depth\n",
      "0\n",
      "0\n",
      "1\n",
      "2\n"
     ]
    },
    {
     "data": {
      "text/plain": [
       "3"
      ]
     },
     "execution_count": 33,
     "metadata": {},
     "output_type": "execute_result"
    }
   ],
   "source": [
    "sol = Solution()\n",
    "sol.maxDepth(root_node)"
   ]
  },
  {
   "attachments": {},
   "cell_type": "markdown",
   "metadata": {},
   "source": [
    "### Prob 2: Validate Binary Search Tree"
   ]
  },
  {
   "cell_type": "code",
   "execution_count": 34,
   "metadata": {},
   "outputs": [],
   "source": [
    "# Definition for a binary tree node.\n",
    "class TreeNode(object):\n",
    "    def __init__(self, val=0, left=None, right=None):\n",
    "        self.val = val\n",
    "        self.left = left\n",
    "        self.right = right\n",
    "def inorder(root):\n",
    "    current = root\n",
    "    while current is None:\n",
    "        return\n",
    "    print(current.val)\n",
    "    # print(current.right)\n",
    "    inorder(current.left)\n",
    "    inorder(current.right)\n",
    "\n",
    "    \n",
    "class Solution(object):\n",
    "    def isValidBST(self, root):\n",
    "        \"\"\"\n",
    "        :type root: TreeNode\n",
    "        :rtype: bool\n",
    "        \"\"\"\n",
    "        if root is None:\n",
    "            return True\n",
    "\n",
    "        def _validate(node, lower=float(\"-inf\"), upper=float(\"inf\")):\n",
    "            if node is None:\n",
    "                return True\n",
    "\n",
    "            if node.val <= lower or node.val >= upper:\n",
    "                return False\n",
    "\n",
    "            return _validate(node.left, lower, node.val) and _validate(node.right, node.val, upper)\n",
    "\n",
    "        return _validate(root)"
   ]
  },
  {
   "cell_type": "code",
   "execution_count": 35,
   "metadata": {},
   "outputs": [
    {
     "name": "stdout",
     "output_type": "stream",
     "text": [
      "2\n",
      "1\n",
      "3\n"
     ]
    }
   ],
   "source": [
    "# Input: root = [2,1,3]\n",
    "# [5,1,4,null,null,3,6]\n",
    "# Output: true\n",
    "root_node = TreeNode(2)\n",
    "root_node.left = TreeNode(1)\n",
    "root_node.right = TreeNode(3)\n",
    "# root_node.left.left = None\n",
    "# root_node.left.right = None\n",
    "# root_node.right.left = TreeNode(3)\n",
    "# root_node.right.right = TreeNode(6)\n",
    "inorder(root_node)"
   ]
  },
  {
   "cell_type": "code",
   "execution_count": 36,
   "metadata": {},
   "outputs": [
    {
     "name": "stdout",
     "output_type": "stream",
     "text": [
      "True\n"
     ]
    }
   ],
   "source": [
    "sol = Solution()\n",
    "print(sol.isValidBST(root_node))"
   ]
  },
  {
   "attachments": {},
   "cell_type": "markdown",
   "metadata": {},
   "source": [
    "### Prob 3: Symmetric Tree\n",
    "\n",
    "Given the root of a binary tree, check whether it is a mirror of itself (i.e., symmetric around its center)."
   ]
  },
  {
   "cell_type": "code",
   "execution_count": 37,
   "metadata": {},
   "outputs": [],
   "source": [
    "# Input: root = [1,2,2,3,4,4,3]\n",
    "# Output: true"
   ]
  },
  {
   "cell_type": "code",
   "execution_count": 38,
   "metadata": {},
   "outputs": [],
   "source": [
    "class TreeNode(object):\n",
    "    def __init__(self, val=0, left=None, right=None):\n",
    "        self.val = val\n",
    "        self.left = left\n",
    "        self.right = right\n",
    "def inorder(root):\n",
    "    current = root\n",
    "    if current is None:\n",
    "        return\n",
    "    print(current.val)\n",
    "    inorder(root.left)\n",
    "    inorder(root.right)\n",
    "class Solution(object):\n",
    "    def isSymmetric(self, root):\n",
    "        \"\"\"\n",
    "        :type root: TreeNode\n",
    "        :rtype: bool\n",
    "        \"\"\"\n",
    "        #base case: root is None\n",
    "        if root is None:\n",
    "            return True\n",
    "\n",
    "        def check_symmetry(left, right):\n",
    "            if left is None or right is None:\n",
    "                return left == right\n",
    "            if left.val != right.val:\n",
    "                return False\n",
    "            return check_symmetry(left.left, right.right) and check_symmetry(left.right, right.left)\n",
    "        \n",
    "        return check_symmetry(root.left, root.right)\n",
    "    "
   ]
  },
  {
   "cell_type": "code",
   "execution_count": 39,
   "metadata": {},
   "outputs": [
    {
     "name": "stdout",
     "output_type": "stream",
     "text": [
      "1\n",
      "2\n",
      "3\n",
      "2\n",
      "3\n"
     ]
    },
    {
     "data": {
      "text/plain": [
       "False"
      ]
     },
     "execution_count": 39,
     "metadata": {},
     "output_type": "execute_result"
    }
   ],
   "source": [
    "root = TreeNode(1)\n",
    "root.left = TreeNode(2)\n",
    "root.right = TreeNode(2)\n",
    "root.left.left = None\n",
    "root.left.right = TreeNode(3)\n",
    "root.right.left = None\n",
    "root.right.right = TreeNode(3)\n",
    "inorder(root)\n",
    "sol = Solution()\n",
    "sol.isSymmetric(root)"
   ]
  },
  {
   "attachments": {},
   "cell_type": "markdown",
   "metadata": {},
   "source": [
    "### Prob 4: Binary Tree Level Order Traversal\n",
    "\n",
    "Given the root of a binary tree, return the level order traversal of its nodes' values. (i.e., from left to right, level by level)."
   ]
  },
  {
   "cell_type": "code",
   "execution_count": 40,
   "metadata": {},
   "outputs": [],
   "source": [
    "# Input: root = [3,9,20,null,null,15,7]\n",
    "# Output: [[3],[9,20],[15,7]]"
   ]
  },
  {
   "cell_type": "code",
   "execution_count": 41,
   "metadata": {},
   "outputs": [],
   "source": [
    "from collections import deque\n",
    "class TreeNode(object):\n",
    "    def __init__(self, val=0, left=None, right=None):\n",
    "        self.val = val\n",
    "        self.left = left\n",
    "        self.right = right\n",
    "def inorder(root):\n",
    "    current = root\n",
    "    if current is None:\n",
    "        return\n",
    "    print(current.val)\n",
    "    inorder(current.left)\n",
    "    inorder(current.right)\n",
    "\n",
    "class Solution(object):\n",
    "    def levelOrder(self, root):\n",
    "        # def depth_traverse(root):\n",
    "        if root is None:\n",
    "            return\n",
    "        list_of_nodes = []\n",
    "        traversal_queue = deque([root])\n",
    "        print(len(traversal_queue))\n",
    "        count = 0\n",
    "\n",
    "        while len(traversal_queue) > 0:\n",
    "            count += 1\n",
    "            print(f\"count: {count}\")\n",
    "            same_level_nodes = []\n",
    "            while len(traversal_queue) > 0:\n",
    "                node = traversal_queue.popleft()\n",
    "                same_level_nodes.append(node)\n",
    "                \n",
    "            for node in same_level_nodes:\n",
    "                if node.left:\n",
    "                    traversal_queue.append(node.left)\n",
    "                \n",
    "                if node.right:\n",
    "                    traversal_queue.append(node.right)\n",
    "\n",
    "            list_of_nodes.append([node.val for node in same_level_nodes])\n",
    "            \n",
    "            print(f\"list of node: {list_of_nodes}\")\n",
    "        return list_of_nodes\n",
    "    \n"
   ]
  },
  {
   "cell_type": "code",
   "execution_count": 42,
   "metadata": {},
   "outputs": [],
   "source": [
    "root = None\n",
    "# root.left = TreeNode(9)\n",
    "# root.right = TreeNode(20)\n",
    "# root.right.left = TreeNode(15)\n",
    "# root.right.right = TreeNode(7)\n",
    "inorder(root)\n",
    "sol = Solution()\n",
    "sol.levelOrder(root)"
   ]
  },
  {
   "attachments": {},
   "cell_type": "markdown",
   "metadata": {},
   "source": [
    "### Prob 5: Convert Sorted Array to Binary Search Tree\n",
    "\n",
    "Given an integer array nums where the elements are sorted in ascending order, convert it to a height-balanced binary search tree."
   ]
  },
  {
   "cell_type": "code",
   "execution_count": 43,
   "metadata": {},
   "outputs": [],
   "source": [
    "# Input: nums = [-10,-3,0,5,9]\n",
    "# Output: [0,-3,9,-10,null,5]\n",
    "# Explanation: [0,-10,5,null,-3,null,9] is also accepted:"
   ]
  },
  {
   "cell_type": "code",
   "execution_count": 44,
   "metadata": {},
   "outputs": [],
   "source": [
    "# find root\n",
    "# divide into 2 deques traverse_left and traverse_right or we can traverse until meet root\n",
    "# Using deque.pop/ deque.popleft to take a node\n",
    "# Using current node to point to the point to compare\n",
    "# if node.val <= current.val --> assign to current.left else current.right\n"
   ]
  },
  {
   "cell_type": "code",
   "execution_count": 20,
   "metadata": {},
   "outputs": [],
   "source": [
    "from collections import deque\n",
    "class TreeNode(object):\n",
    "    def __init__(self, val=0, left=None, right=None):\n",
    "        self.val = val\n",
    "        self.left = left\n",
    "        self.right = right\n",
    "def inorder(root):\n",
    "    current = root\n",
    "    if current is None:\n",
    "        return\n",
    "    print(current.val)\n",
    "    # print(current.right)\n",
    "    inorder(current.left)\n",
    "    inorder(current.right)\n",
    "class Solution(object):\n",
    "    def sortedArrayToBST(self, nums):\n",
    "        #base case\n",
    "        if not nums:\n",
    "            return None\n",
    "        \n",
    "        mid = len(nums)//2\n",
    "        root = TreeNode(nums[mid])\n",
    "        print(f\"mid: {mid} | root {root.val}\")\n",
    "\n",
    "        root.left = self.sortedArrayToBST(nums[:mid])\n",
    "        root.right = self.sortedArrayToBST(nums[mid+1:])\n",
    "\n",
    "        return root"
   ]
  },
  {
   "cell_type": "code",
   "execution_count": 17,
   "metadata": {},
   "outputs": [
    {
     "name": "stdout",
     "output_type": "stream",
     "text": [
      "mid: 2 | root 0\n",
      "mid: 1 | root -3\n",
      "mid: 0 | root -10\n",
      "mid: 1 | root 9\n",
      "mid: 0 | root 5\n"
     ]
    }
   ],
   "source": [
    "nums = [-10,-3,0,5,9]\n",
    "sol = Solution()\n",
    "root = sol.sortedArrayToBST(nums)"
   ]
  },
  {
   "cell_type": "code",
   "execution_count": null,
   "metadata": {},
   "outputs": [],
   "source": [
    "inorder(root)\n"
   ]
  },
  {
   "cell_type": "code",
   "execution_count": 18,
   "metadata": {},
   "outputs": [
    {
     "name": "stdout",
     "output_type": "stream",
     "text": [
      "<__main__.TreeNode object at 0x7f7f94cfeb50>\n"
     ]
    }
   ],
   "source": [
    "print(root)"
   ]
  },
  {
   "cell_type": "code",
   "execution_count": 21,
   "metadata": {},
   "outputs": [
    {
     "name": "stdout",
     "output_type": "stream",
     "text": [
      "0\n",
      "-3\n",
      "-10\n",
      "9\n",
      "5\n"
     ]
    }
   ],
   "source": []
  },
  {
   "cell_type": "code",
   "execution_count": null,
   "metadata": {},
   "outputs": [],
   "source": []
  }
 ],
 "metadata": {
  "kernelspec": {
   "display_name": "Python 3",
   "language": "python",
   "name": "python3"
  },
  "language_info": {
   "codemirror_mode": {
    "name": "ipython",
    "version": 3
   },
   "file_extension": ".py",
   "mimetype": "text/x-python",
   "name": "python",
   "nbconvert_exporter": "python",
   "pygments_lexer": "ipython3",
   "version": "3.8.10"
  },
  "orig_nbformat": 4
 },
 "nbformat": 4,
 "nbformat_minor": 2
}
