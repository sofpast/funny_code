{
 "cells": [
  {
   "attachments": {},
   "cell_type": "markdown",
   "metadata": {},
   "source": [
    "### Prob 2: Count Primes\n",
    "\n",
    "Given an integer n, return the number of prime numbers that are strictly less than n."
   ]
  },
  {
   "cell_type": "code",
   "execution_count": null,
   "metadata": {},
   "outputs": [],
   "source": [
    "Input: n = 10\n",
    "Output: 4\n",
    "Explanation: There are 4 prime numbers less than 10, they are 2, 3, 5, 7."
   ]
  },
  {
   "cell_type": "code",
   "execution_count": 5,
   "metadata": {},
   "outputs": [],
   "source": [
    "class Solution(object):\n",
    "    def countPrimes(self, n):\n",
    "        \"\"\"\n",
    "        :type n: int\n",
    "        :rtype: int\n",
    "        \"\"\"\n",
    "        def is_prime(n):\n",
    "            for i in range(2, int(n**0.5) +1):\n",
    "                if n % i == 0:\n",
    "                    return False\n",
    "                    break\n",
    "            return True\n",
    "        count = 0\n",
    "        for num in range(2, n):\n",
    "            if is_prime(num):\n",
    "                count += 1\n",
    "        return count"
   ]
  },
  {
   "cell_type": "code",
   "execution_count": 15,
   "metadata": {},
   "outputs": [],
   "source": [
    "class Solution(object):\n",
    "    def countPrimes(self, n: int) -> int:\n",
    "        if n<2: return 0\n",
    "        prime=[True]*n\n",
    "        prime[0]=prime[1]=False\n",
    "        for i in range(2,n):\n",
    "            if prime[i]:\n",
    "                for j in range(i+i, n, i):\n",
    "                    prime[j]=False\n",
    "        return prime.count(True)\n",
    "# Time limitation is failed"
   ]
  },
  {
   "cell_type": "code",
   "execution_count": 20,
   "metadata": {},
   "outputs": [],
   "source": [
    "class Solution(object):\n",
    "    def countPrimes(self, n):\n",
    "        isPrime = [True] * n\n",
    "        isPrime[:2] = [False, False]\n",
    "\n",
    "        for i in range(2, int(n ** 0.5) + 1):\n",
    "            if isPrime[i]:\n",
    "                isPrime[i * i: n: i] = [False] * len(isPrime[i * i: n: i])\n",
    "        return sum(isPrime)\n",
    "    \n",
    "# https://github.com/ngaikw/LeetCode-Python/blob/master/204%20Count%20Primes.py"
   ]
  },
  {
   "cell_type": "code",
   "execution_count": 19,
   "metadata": {},
   "outputs": [
    {
     "data": {
      "text/plain": [
       "4"
      ]
     },
     "execution_count": 19,
     "metadata": {},
     "output_type": "execute_result"
    }
   ],
   "source": [
    "n = 10\n",
    "sol = Solution()\n",
    "sol.countPrimes(n)"
   ]
  }
 ],
 "metadata": {
  "kernelspec": {
   "display_name": "Python 3",
   "language": "python",
   "name": "python3"
  },
  "language_info": {
   "codemirror_mode": {
    "name": "ipython",
    "version": 3
   },
   "file_extension": ".py",
   "mimetype": "text/x-python",
   "name": "python",
   "nbconvert_exporter": "python",
   "pygments_lexer": "ipython3",
   "version": "3.11.2"
  },
  "orig_nbformat": 4
 },
 "nbformat": 4,
 "nbformat_minor": 2
}
